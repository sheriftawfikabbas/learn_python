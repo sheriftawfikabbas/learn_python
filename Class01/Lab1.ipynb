{
 "cells": [
  {
   "cell_type": "markdown",
   "metadata": {
    "id": "ZtNgbrOmnT10"
   },
   "source": [
    "# Lab 1\n",
    "\n",
    "## Exercise 1:\n",
    "\n",
    "Use the `input()` function to get a number from the user, and then add `1` to the number and it print out the result."
   ]
  },
  {
   "cell_type": "code",
   "execution_count": 3,
   "metadata": {
    "colab": {
     "base_uri": "https://localhost:8080/"
    },
    "executionInfo": {
     "elapsed": 2730,
     "status": "ok",
     "timestamp": 1662465556556,
     "user": {
      "displayName": "Sherif Tawfik",
      "userId": "08424006537682359657"
     },
     "user_tz": -600
    },
    "id": "_GU1x8aqlBSf",
    "outputId": "6494c33f-f017-46db-8fbe-726393b25da2"
   },
   "outputs": [],
   "source": []
  },
  {
   "cell_type": "markdown",
   "metadata": {
    "id": "gD2cMbsiwH5c"
   },
   "source": [
    "## Exercise 2:\n",
    "\n",
    "Use the `input()` function to get values in two variables, then print out their sum, their difference, their product and their division."
   ]
  },
  {
   "cell_type": "code",
   "execution_count": null,
   "metadata": {
    "colab": {
     "base_uri": "https://localhost:8080/",
     "height": 121
    },
    "executionInfo": {
     "elapsed": 4286,
     "status": "ok",
     "timestamp": 1582248187105,
     "user": {
      "displayName": "Sherif Tawfik",
      "photoUrl": "https://lh6.googleusercontent.com/-pkq2qTyEGvM/AAAAAAAAAAI/AAAAAAAAFoA/jDXaFewCL-s/s64/photo.jpg",
      "userId": "08424006537682359657"
     },
     "user_tz": -660
    },
    "id": "M8BmezauwfS1",
    "outputId": "6a858ffb-c20f-483b-d41a-66e9b68d1ea9"
   },
   "outputs": [],
   "source": []
  },
  {
   "cell_type": "markdown",
   "metadata": {
    "id": "HOhyxUMowfzn"
   },
   "source": [
    "## Exercise 3:\n",
    "\n",
    "Write a python code that asks the user to enter the first name and last name separately, then prints out the full name.\n",
    "\n",
    "The program should perform the following:\n",
    "\n",
    "`Enter first name:` Zoe\n",
    "\n",
    "`Enter last name:` The King\n",
    "\n",
    "`Hi Zoe The King!`"
   ]
  },
  {
   "cell_type": "code",
   "execution_count": null,
   "metadata": {
    "colab": {
     "base_uri": "https://localhost:8080/",
     "height": 103
    },
    "executionInfo": {
     "elapsed": 7797,
     "status": "ok",
     "timestamp": 1582842721196,
     "user": {
      "displayName": "Sherif Tawfik",
      "photoUrl": "https://lh6.googleusercontent.com/-pkq2qTyEGvM/AAAAAAAAAAI/AAAAAAAAFoA/jDXaFewCL-s/s64/photo.jpg",
      "userId": "08424006537682359657"
     },
     "user_tz": -660
    },
    "id": "sHXAjLha8COO",
    "outputId": "c613e245-e739-4995-8c30-e096ad99f355"
   },
   "outputs": [],
   "source": []
  },
  {
   "cell_type": "markdown",
   "metadata": {
    "id": "ShOTlkEF8UUv"
   },
   "source": [
    "## Exercise 4:\n",
    "\n",
    "Write a python code that receives three strings, then print them out in reverse order."
   ]
  },
  {
   "cell_type": "code",
   "execution_count": null,
   "metadata": {
    "id": "Te8LN5Ky9ZRy"
   },
   "outputs": [],
   "source": []
  },
  {
   "cell_type": "markdown",
   "metadata": {
    "id": "-szMRtKU9ZeQ"
   },
   "source": [
    "## Exercise 5:\n",
    "\n",
    "Write a python code that receives 10 numbers, and prints out the sum and the average."
   ]
  },
  {
   "cell_type": "code",
   "execution_count": null,
   "metadata": {
    "id": "6DZYLFMJ9mXR"
   },
   "outputs": [],
   "source": []
  },
  {
   "cell_type": "markdown",
   "metadata": {
    "id": "HzGE9Ug_BTay"
   },
   "source": [
    "## Exercise 6:\n",
    "\n",
    "Write a python code that receives a input from the user and then prints out its data type. What do you notice here?"
   ]
  },
  {
   "cell_type": "code",
   "execution_count": null,
   "metadata": {
    "colab": {
     "base_uri": "https://localhost:8080/",
     "height": 51
    },
    "executionInfo": {
     "elapsed": 4877,
     "status": "ok",
     "timestamp": 1590545160364,
     "user": {
      "displayName": "Sherif Tawfik",
      "photoUrl": "https://lh6.googleusercontent.com/-pkq2qTyEGvM/AAAAAAAAAAI/AAAAAAAAFoA/jDXaFewCL-s/s64/photo.jpg",
      "userId": "08424006537682359657"
     },
     "user_tz": -600
    },
    "id": "OX24evRvBoiV",
    "outputId": "19d3d7ff-3f1f-415c-b30e-30f3eb28424c"
   },
   "outputs": [],
   "source": []
  },
  {
   "cell_type": "markdown",
   "metadata": {
    "id": "wuM3dqzOBorr"
   },
   "source": [
    "## Exercise 7:\n",
    "\n",
    "Write a python code that receives 3 inputs from the user and then print them out, all in the same line."
   ]
  },
  {
   "cell_type": "code",
   "execution_count": null,
   "metadata": {
    "colab": {
     "base_uri": "https://localhost:8080/",
     "height": 85
    },
    "executionInfo": {
     "elapsed": 6847,
     "status": "ok",
     "timestamp": 1590545141735,
     "user": {
      "displayName": "Sherif Tawfik",
      "photoUrl": "https://lh6.googleusercontent.com/-pkq2qTyEGvM/AAAAAAAAAAI/AAAAAAAAFoA/jDXaFewCL-s/s64/photo.jpg",
      "userId": "08424006537682359657"
     },
     "user_tz": -600
    },
    "id": "3U64gmqbB_lb",
    "outputId": "f8ea5a1c-36c2-4fee-a735-2aca5ed53311"
   },
   "outputs": [],
   "source": []
  }
 ],
 "metadata": {
  "colab": {
   "authorship_tag": "ABX9TyMwoeMKs7rzjHaSa7nXGppH",
   "collapsed_sections": [],
   "provenance": []
  },
  "kernelspec": {
   "display_name": "Python 3",
   "name": "python3"
  }
 },
 "nbformat": 4,
 "nbformat_minor": 0
}
