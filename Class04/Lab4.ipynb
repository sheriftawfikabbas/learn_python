{
 "cells": [
  {
   "cell_type": "markdown",
   "metadata": {
    "id": "DrvXw1eVS7j1"
   },
   "source": [
    "# Lab 4\n",
    "\n",
    "## Exercise 1:\n",
    "\n",
    "Write a function that receives three numbers, adds them up and prints out the answer.\n"
   ]
  },
  {
   "cell_type": "code",
   "execution_count": null,
   "metadata": {
    "colab": {
     "base_uri": "https://localhost:8080/",
     "height": 34
    },
    "executionInfo": {
     "elapsed": 891,
     "status": "ok",
     "timestamp": 1584060114047,
     "user": {
      "displayName": "Sherif Tawfik",
      "photoUrl": "https://lh6.googleusercontent.com/-pkq2qTyEGvM/AAAAAAAAAAI/AAAAAAAAFoA/jDXaFewCL-s/s64/photo.jpg",
      "userId": "08424006537682359657"
     },
     "user_tz": -660
    },
    "id": "rb1XYf3S5qxc",
    "outputId": "9003971e-2f77-4909-a3b5-c70afb472ead"
   },
   "outputs": [],
   "source": []
  },
  {
   "cell_type": "markdown",
   "metadata": {
    "id": "JatRao9u6L0v"
   },
   "source": [
    "## Exercise 2:\n",
    "\n",
    "Write a function `get_character` that receives a number `n` and a string `s`, and then does the following\n",
    "- Checks if `n` is an integer, `s` is a string, and that `n` is from `0` to `len(s)-1`\n",
    "- Prints out the character at index `n`"
   ]
  },
  {
   "cell_type": "code",
   "execution_count": null,
   "metadata": {
    "colab": {
     "base_uri": "https://localhost:8080/",
     "height": 34
    },
    "executionInfo": {
     "elapsed": 715,
     "status": "ok",
     "timestamp": 1584060608723,
     "user": {
      "displayName": "Sherif Tawfik",
      "photoUrl": "https://lh6.googleusercontent.com/-pkq2qTyEGvM/AAAAAAAAAAI/AAAAAAAAFoA/jDXaFewCL-s/s64/photo.jpg",
      "userId": "08424006537682359657"
     },
     "user_tz": -660
    },
    "id": "RJoIAOp76MJR",
    "outputId": "87724b1a-6d0b-4e14-ee51-89bcc81225ec"
   },
   "outputs": [],
   "source": []
  },
  {
   "cell_type": "markdown",
   "metadata": {
    "id": "jKugxGzi5rIj"
   },
   "source": [
    "\n",
    "## Exercise 3: \n",
    "\n",
    "Write a function `reverse()` that receives a string `s` and reverses it. For example, if it receives the string `\"abcd\"`, it returns `\"dcba\"`."
   ]
  },
  {
   "cell_type": "code",
   "execution_count": null,
   "metadata": {
    "colab": {
     "base_uri": "https://localhost:8080/",
     "height": 35
    },
    "executionInfo": {
     "elapsed": 939,
     "status": "ok",
     "timestamp": 1584061990603,
     "user": {
      "displayName": "Sherif Tawfik",
      "photoUrl": "https://lh6.googleusercontent.com/-pkq2qTyEGvM/AAAAAAAAAAI/AAAAAAAAFoA/jDXaFewCL-s/s64/photo.jpg",
      "userId": "08424006537682359657"
     },
     "user_tz": -660
    },
    "id": "gGvuPtwKGQgb",
    "outputId": "686184f9-74a7-4cfb-d14d-8b5990aac858"
   },
   "outputs": [],
   "source": []
  },
  {
   "cell_type": "markdown",
   "metadata": {
    "id": "bGeMvWygGQsN"
   },
   "source": [
    "\n",
    "## Exercise 4: \n",
    "\n",
    "Write a function that receives a number `n` and checks if `n` is a positive integer. If so, it returns a list of integers that are divisors of `n`.\n",
    "\n",
    "For example, if `n = 12`, the function returns `[1,2,3,4,6,12]`."
   ]
  },
  {
   "cell_type": "code",
   "execution_count": null,
   "metadata": {
    "colab": {
     "base_uri": "https://localhost:8080/",
     "height": 34
    },
    "executionInfo": {
     "elapsed": 1064,
     "status": "ok",
     "timestamp": 1590545507139,
     "user": {
      "displayName": "Sherif Tawfik",
      "photoUrl": "https://lh6.googleusercontent.com/-pkq2qTyEGvM/AAAAAAAAAAI/AAAAAAAAFoA/jDXaFewCL-s/s64/photo.jpg",
      "userId": "08424006537682359657"
     },
     "user_tz": -600
    },
    "id": "NTsc8nvSvq7V",
    "outputId": "ef085fd9-5d06-4758-e8df-ee4538447f21"
   },
   "outputs": [],
   "source": []
  },
  {
   "cell_type": "markdown",
   "metadata": {
    "id": "LDoPB9qyvrN4"
   },
   "source": [
    "## Exercise 5:\n",
    "Write a function that receives 3 numbers, checks if they are numbers and then returns their maximum value.\n",
    "\n"
   ]
  },
  {
   "cell_type": "code",
   "execution_count": null,
   "metadata": {
    "colab": {
     "base_uri": "https://localhost:8080/",
     "height": 34
    },
    "executionInfo": {
     "elapsed": 919,
     "status": "ok",
     "timestamp": 1584665457602,
     "user": {
      "displayName": "Sherif Tawfik",
      "photoUrl": "https://lh6.googleusercontent.com/-pkq2qTyEGvM/AAAAAAAAAAI/AAAAAAAAFoA/jDXaFewCL-s/s64/photo.jpg",
      "userId": "08424006537682359657"
     },
     "user_tz": -660
    },
    "id": "MOOMJshowIy1",
    "outputId": "fc217f42-9956-407a-d1bd-1fe872c0e1bd"
   },
   "outputs": [],
   "source": []
  },
  {
   "cell_type": "markdown",
   "metadata": {
    "id": "gbtJgvPTwI8M"
   },
   "source": [
    "## Exercise 6:\n",
    "Write a function that receives a list of numbers and returns the index of the maximum value. If the list is not valid, it returns -1."
   ]
  },
  {
   "cell_type": "code",
   "execution_count": null,
   "metadata": {
    "colab": {
     "base_uri": "https://localhost:8080/",
     "height": 34
    },
    "executionInfo": {
     "elapsed": 836,
     "status": "ok",
     "timestamp": 1584663856730,
     "user": {
      "displayName": "Sherif Tawfik",
      "photoUrl": "https://lh6.googleusercontent.com/-pkq2qTyEGvM/AAAAAAAAAAI/AAAAAAAAFoA/jDXaFewCL-s/s64/photo.jpg",
      "userId": "08424006537682359657"
     },
     "user_tz": -660
    },
    "id": "CCYjS45owXw1",
    "outputId": "0c721398-7fb4-4de6-fbb1-3b6b63e907d9"
   },
   "outputs": [],
   "source": []
  },
  {
   "cell_type": "markdown",
   "metadata": {
    "id": "jDG84kJC6Oaf"
   },
   "source": [
    "## Exercise 7:\n",
    "\n",
    "Write a function that receives a number `n`, and then checks if it is an integer. If so, it returns the list of all prime numbers less than or equal to `n`.\n",
    "\n"
   ]
  },
  {
   "cell_type": "code",
   "execution_count": null,
   "metadata": {
    "id": "U390aARw6OxG"
   },
   "outputs": [],
   "source": []
  }
 ],
 "metadata": {
  "colab": {
   "authorship_tag": "ABX9TyOoP4uaRwRqsJlh3prO1zyw",
   "collapsed_sections": [],
   "provenance": []
  },
  "interpreter": {
   "hash": "e7370f93d1d0cde622a1f8e1c04877d8463912d04d973331ad4851f04de6915a"
  },
  "kernelspec": {
   "display_name": "Python 3.8.10 64-bit",
   "name": "python3"
  },
  "language_info": {
   "codemirror_mode": {
    "name": "ipython",
    "version": 3
   },
   "file_extension": ".py",
   "mimetype": "text/x-python",
   "name": "python",
   "nbconvert_exporter": "python",
   "pygments_lexer": "ipython3",
   "version": "3.8.10"
  }
 },
 "nbformat": 4,
 "nbformat_minor": 0
}
