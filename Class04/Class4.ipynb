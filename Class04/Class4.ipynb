{
 "cells": [
  {
   "cell_type": "markdown",
   "metadata": {
    "colab_type": "text",
    "id": "lJsWKZKcQbsZ"
   },
   "source": [
    "# Class 4: Functions\n",
    "\n",
    "## Learning outcomes\n",
    "\n",
    "At the completion of this unit students should be able to:\n",
    "1.   Understand the syntax of function declaration\n",
    "2.   Create python functions for various applications\n",
    "\n",
    "## 4.1 Function declaration\n",
    "\n",
    "The invention of functions was a major milestone in the history of programming languages. Functions gave birth to the *procedural programming paradigm* during the 1950s-1970s. You can find more info about this interesting topic here: https://en.wikipedia.org/wiki/Procedural_programming.\n",
    "\n",
    "What's a function? A function is a block of code that can be invoked on demand. To understand the importance of functions, let say you want have hundreds of lines code that you want to invoke repeatedly in your program. If you wish to use these lines of code, then you can copy-paste them wherever you want to invoke them. However, if you need them in multiple places in the code, then copy-pasting might not be the most efficient way to write code. \n",
    "\n",
    "Alternatively, we place these lines of code into a python *function*. The syntax for *function definition* is as follows:\n",
    "\n",
    "```\n",
    "def my_function():\n",
    "  some_statements\n",
    "```\n",
    "Here we *defined* a new python function that is *named* `my_function`. This function can be *called* by simply typing\n",
    "\n",
    "```\n",
    "my_function()\n",
    "```\n",
    "\n",
    "This function definition has three parts: a function *name*, the `()` and `some_statements`. When you *call* the function, the computer will execute the statements in `some_statements` block. Let's have an example.\n"
   ]
  },
  {
   "cell_type": "code",
   "execution_count": 1,
   "metadata": {
    "colab": {
     "base_uri": "https://localhost:8080/",
     "height": 34
    },
    "colab_type": "code",
    "executionInfo": {
     "elapsed": 1933,
     "status": "ok",
     "timestamp": 1584058231088,
     "user": {
      "displayName": "Sherif Tawfik",
      "photoUrl": "https://lh6.googleusercontent.com/-pkq2qTyEGvM/AAAAAAAAAAI/AAAAAAAAFoA/jDXaFewCL-s/s64/photo.jpg",
      "userId": "08424006537682359657"
     },
     "user_tz": -660
    },
    "id": "4AmTXa9WQJ7o",
    "outputId": "17e54ff5-4e4b-43c6-852a-c035e40cd62f"
   },
   "outputs": [
    {
     "name": "stdout",
     "output_type": "stream",
     "text": [
      "Hello, I need my coffee!\n"
     ]
    }
   ],
   "source": [
    "def print_hello():\n",
    "  print('Hello, I need my coffee!')\n",
    "\n",
    "print_hello()"
   ]
  },
  {
   "cell_type": "markdown",
   "metadata": {
    "colab_type": "text",
    "id": "IG-cZ5gVycM0"
   },
   "source": [
    "So that's how we *call* a function: we use its name, and add the `()` to it. The result is: the block of statements, here containing just one `print` statement, inside the function is executed.\n",
    "\n",
    "Next, what is `()` for anyway? This is how we can *input* data into the function, so that the function can process this data to do something useful (hopefully!) with it.\n",
    "\n",
    "We use `()` by putting an *argument list* inside it, as follows:\n",
    "```\n",
    "def my_function(x):\n",
    "  some_statements\n",
    "```\n",
    "\n",
    "Here, `x` is a variable that will be used by the function. Let's write a function that receives some variable `x` and then prints it out:"
   ]
  },
  {
   "cell_type": "code",
   "execution_count": 4,
   "metadata": {
    "colab": {
     "base_uri": "https://localhost:8080/",
     "height": 34
    },
    "colab_type": "code",
    "executionInfo": {
     "elapsed": 814,
     "status": "ok",
     "timestamp": 1581333623119,
     "user": {
      "displayName": "Sherif Tawfik",
      "photoUrl": "https://lh6.googleusercontent.com/-pkq2qTyEGvM/AAAAAAAAAAI/AAAAAAAAFoA/jDXaFewCL-s/s64/photo.jpg",
      "userId": "08424006537682359657"
     },
     "user_tz": -660
    },
    "id": "C4Y16wup07Nq",
    "outputId": "84759289-ca38-4510-9a4f-701c003dba8d"
   },
   "outputs": [
    {
     "name": "stdout",
     "output_type": "stream",
     "text": [
      "2\n",
      "hi!!\n"
     ]
    }
   ],
   "source": [
    "def print_x(icancallitanything):\n",
    "  print(icancallitanything)\n",
    "\n",
    "print_x(2)\n",
    "print_x(\"hi!!\")"
   ]
  },
  {
   "cell_type": "markdown",
   "metadata": {
    "colab_type": "text",
    "id": "DS_njM6c1Dt7"
   },
   "source": [
    "The function `print_x` receives an argument `x` and passes it to the `print` function. We can also pass several arguments to a function, and we must separate them by the comma. For example, this function receives two arguments `x` and `y`, adds them up and prints the answer."
   ]
  },
  {
   "cell_type": "code",
   "execution_count": 5,
   "metadata": {
    "colab": {
     "base_uri": "https://localhost:8080/",
     "height": 34
    },
    "colab_type": "code",
    "executionInfo": {
     "elapsed": 740,
     "status": "ok",
     "timestamp": 1581333969670,
     "user": {
      "displayName": "Sherif Tawfik",
      "photoUrl": "https://lh6.googleusercontent.com/-pkq2qTyEGvM/AAAAAAAAAAI/AAAAAAAAFoA/jDXaFewCL-s/s64/photo.jpg",
      "userId": "08424006537682359657"
     },
     "user_tz": -660
    },
    "id": "CiY6iy4d2LOs",
    "outputId": "7fc7f2c5-eb59-4f3e-e423-f9fe0b9921d0"
   },
   "outputs": [
    {
     "name": "stdout",
     "output_type": "stream",
     "text": [
      "5\n"
     ]
    }
   ],
   "source": [
    "def print_sum(x,y):\n",
    "  print(x+y)\n",
    "\n",
    "print_sum(2,3)"
   ]
  },
  {
   "cell_type": "markdown",
   "metadata": {
    "colab_type": "text",
    "id": "6ujO57mB2ujN"
   },
   "source": [
    "If a function is defined to receive a specific number of arguments, we have to provide that same number of arguments to the function when we call it. Otherwise we will upset python: we get an error!\n",
    "\n",
    "**GOTO Lab exercises 1-4**\n",
    "\n",
    "## 4.2 The `return` statement\n",
    "\n",
    "So far, each of the functions we've created performs a task then stops. Functions can also perform something very useful: they can *return* data. For example, a function can receive arguments, process them, and then return the result of processing. Let me introduce the `return` statement in python functions.\n",
    "\n",
    "```\n",
    "def my_function(x):\n",
    "  some_statements\n",
    "  return something\n",
    "```\n",
    "\n",
    "For example, let's write a function that receives two arguments and then *returns* their sum:\n"
   ]
  },
  {
   "cell_type": "code",
   "execution_count": 6,
   "metadata": {
    "colab": {
     "base_uri": "https://localhost:8080/",
     "height": 34
    },
    "colab_type": "code",
    "executionInfo": {
     "elapsed": 1002,
     "status": "ok",
     "timestamp": 1581335627771,
     "user": {
      "displayName": "Sherif Tawfik",
      "photoUrl": "https://lh6.googleusercontent.com/-pkq2qTyEGvM/AAAAAAAAAAI/AAAAAAAAFoA/jDXaFewCL-s/s64/photo.jpg",
      "userId": "08424006537682359657"
     },
     "user_tz": -660
    },
    "id": "EiGbnd388lZt",
    "outputId": "06e1dcac-edd6-4bc9-e119-78fcaf4db230"
   },
   "outputs": [
    {
     "name": "stdout",
     "output_type": "stream",
     "text": [
      "15\n"
     ]
    }
   ],
   "source": [
    "def the_sum(x,y):\n",
    "  return x+y\n",
    "\n",
    "a = the_sum(5,10)\n",
    "\n",
    "print(a)"
   ]
  },
  {
   "cell_type": "markdown",
   "metadata": {
    "colab_type": "text",
    "id": "qbyREpno9CjN"
   },
   "source": [
    "A function can also return multiple things, separating them by commas. For example, the function `the_math()` below returns the sum and difference of the two arguments.\n",
    "\n"
   ]
  },
  {
   "cell_type": "code",
   "execution_count": 7,
   "metadata": {
    "colab": {
     "base_uri": "https://localhost:8080/",
     "height": 34
    },
    "colab_type": "code",
    "executionInfo": {
     "elapsed": 823,
     "status": "ok",
     "timestamp": 1581335801164,
     "user": {
      "displayName": "Sherif Tawfik",
      "photoUrl": "https://lh6.googleusercontent.com/-pkq2qTyEGvM/AAAAAAAAAAI/AAAAAAAAFoA/jDXaFewCL-s/s64/photo.jpg",
      "userId": "08424006537682359657"
     },
     "user_tz": -660
    },
    "id": "sKhunyGZ9Ryj",
    "outputId": "05490a0e-13ae-4fce-8a6d-41ea0fcdb695"
   },
   "outputs": [
    {
     "name": "stdout",
     "output_type": "stream",
     "text": [
      "(5, -1)\n"
     ]
    }
   ],
   "source": [
    "def the_math(x,y):\n",
    "  return x+y,x-y\n",
    "\n",
    "print(the_math(2,3))"
   ]
  },
  {
   "cell_type": "markdown",
   "metadata": {
    "colab_type": "text",
    "id": "rIX3qUQC9eyw"
   },
   "source": [
    "So you recognise that parentheses? Functions that return more than one value will return a *tuple* of values.\n",
    "\n",
    "\n",
    "\n",
    "## 4.3 Default values\n",
    "\n",
    "I said above that, when passing values into the arguemnts list, we have to respect the order and number of arguments. Sometimes you want to give some default value. Doing this will let us ignore passing values for those arguments. \n",
    "\n",
    "For example, let's write a function that receives a string `s` and a number `n` to return the slice of the `s` starting from index `n`. If the user doesn't provide `n`, the function will set `n` to zero by default. Here is the code.\n"
   ]
  },
  {
   "cell_type": "code",
   "execution_count": 9,
   "metadata": {
    "colab": {
     "base_uri": "https://localhost:8080/",
     "height": 34
    },
    "colab_type": "code",
    "executionInfo": {
     "elapsed": 1778,
     "status": "ok",
     "timestamp": 1584010362190,
     "user": {
      "displayName": "Sherif Tawfik",
      "photoUrl": "https://lh6.googleusercontent.com/-pkq2qTyEGvM/AAAAAAAAAAI/AAAAAAAAFoA/jDXaFewCL-s/s64/photo.jpg",
      "userId": "08424006537682359657"
     },
     "user_tz": -660
    },
    "id": "TCKmoepx_msR",
    "outputId": "55cf764d-d7e7-4dfe-e91c-d80df3fe7f0a"
   },
   "outputs": [
    {
     "name": "stdout",
     "output_type": "stream",
     "text": [
      "re!\n",
      "Hi there!\n"
     ]
    }
   ],
   "source": [
    "def print_n(s,n=0):\n",
    "  print(s[n:])\n",
    "\n",
    "print_n('Hi there!',6)\n",
    "\n",
    "print_n('Hi there!')"
   ]
  },
  {
   "cell_type": "code",
   "execution_count": 11,
   "metadata": {},
   "outputs": [
    {
     "ename": "SyntaxError",
     "evalue": "non-default argument follows default argument (3300646794.py, line 1)",
     "output_type": "error",
     "traceback": [
      "\u001b[1;36m  Cell \u001b[1;32mIn[11], line 1\u001b[1;36m\u001b[0m\n\u001b[1;33m    def print_n(s=\"abc\",n):\u001b[0m\n\u001b[1;37m                        ^\u001b[0m\n\u001b[1;31mSyntaxError\u001b[0m\u001b[1;31m:\u001b[0m non-default argument follows default argument\n"
     ]
    }
   ],
   "source": [
    "def print_n(s=\"abc\",n):\n",
    "  print(s[n:])\n",
    "\n",
    "print_n()"
   ]
  },
  {
   "cell_type": "markdown",
   "metadata": {},
   "source": [
    "### Named arguments"
   ]
  },
  {
   "cell_type": "code",
   "execution_count": null,
   "metadata": {},
   "outputs": [],
   "source": [
    "def f(a1,a2,a3,a4):\n",
    "    a = a1+a2+a3+a4\n",
    "    return a\n",
    "\n",
    "s = f(3,5,8,9)\n",
    "\n",
    "s_named = f(a3=7,a2=10,a4=0,a1=100)"
   ]
  },
  {
   "cell_type": "markdown",
   "metadata": {
    "colab_type": "text",
    "id": "wsoEqv8M_1kG"
   },
   "source": [
    "We didn't have to put a value for `n` here, since the function can safely assume a value for it by setting `n=0`.\n",
    "\n",
    "## 4.4 Scope\n",
    "\n",
    "When you declare a variable in python, you can use that variable at any part of your code *after* declaring the variable.\n",
    "\n",
    "If your variable is declared within a the block of a control statement, for example, it can still be seen *outside* of the block.\n",
    "\n",
    "However, when you define a variable inside a function's block the situation will be different. A function in python defines a *scope* for variables. Variables declared inside the function block are *only accessible* within the block i.e. scope.\n",
    "\n",
    "Here is an example of a code that will give an error."
   ]
  },
  {
   "cell_type": "code",
   "execution_count": null,
   "metadata": {},
   "outputs": [],
   "source": [
    "if True:\n",
    "    a = 5\n",
    "\n",
    "print(a)\n",
    "\n",
    "# if(true){\n",
    "#     int a = 5;\n",
    "# }\n",
    "# System.out.print(a);"
   ]
  },
  {
   "cell_type": "code",
   "execution_count": 12,
   "metadata": {
    "colab": {
     "base_uri": "https://localhost:8080/",
     "height": 34
    },
    "colab_type": "code",
    "executionInfo": {
     "elapsed": 1356,
     "status": "ok",
     "timestamp": 1584019669264,
     "user": {
      "displayName": "Sherif Tawfik",
      "photoUrl": "https://lh6.googleusercontent.com/-pkq2qTyEGvM/AAAAAAAAAAI/AAAAAAAAFoA/jDXaFewCL-s/s64/photo.jpg",
      "userId": "08424006537682359657"
     },
     "user_tz": -660
    },
    "id": "IbaGHGZH3oye",
    "outputId": "a32df7a4-a9aa-462f-a49f-9323b96d33a2"
   },
   "outputs": [
    {
     "ename": "NameError",
     "evalue": "name 'g' is not defined",
     "output_type": "error",
     "traceback": [
      "\u001b[1;31m---------------------------------------------------------------------------\u001b[0m",
      "\u001b[1;31mNameError\u001b[0m                                 Traceback (most recent call last)",
      "Cell \u001b[1;32mIn[12], line 4\u001b[0m\n\u001b[0;32m      1\u001b[0m \u001b[38;5;28;01mdef\u001b[39;00m \u001b[38;5;21ma\u001b[39m():\n\u001b[0;32m      2\u001b[0m   g\u001b[38;5;241m=\u001b[39m\u001b[38;5;241m3\u001b[39m\n\u001b[1;32m----> 4\u001b[0m \u001b[38;5;28mprint\u001b[39m(\u001b[43mg\u001b[49m)\n",
      "\u001b[1;31mNameError\u001b[0m: name 'g' is not defined"
     ]
    }
   ],
   "source": [
    "def a():\n",
    "  g=3\n",
    "\n",
    "print(g)"
   ]
  },
  {
   "cell_type": "markdown",
   "metadata": {
    "colab_type": "text",
    "id": "KKcQPreK3o7R"
   },
   "source": [
    "You can also define a function inside a funtion. The inner function also lives in the scope of the outer function. So the code below returns an error."
   ]
  },
  {
   "cell_type": "code",
   "execution_count": null,
   "metadata": {
    "colab": {},
    "colab_type": "code",
    "id": "jdB5nnCg7uYp"
   },
   "outputs": [],
   "source": [
    "\n",
    "def a():\n",
    "  def b():\n",
    "    pass\n",
    "\n",
    "\n",
    "b()"
   ]
  },
  {
   "cell_type": "markdown",
   "metadata": {
    "colab_type": "text",
    "id": "Hzfkexkw7uua"
   },
   "source": [
    "\n",
    "## 4.5 Useful functions\n",
    "\n",
    "### Type functions\n",
    "\n",
    "- `isinstance(a,type)` checks if object `a` is of type `type`.\n",
    "\n",
    "## 4.6 Useful string methods\n",
    "\n",
    "- `s.upper()` and `s.lower()`\n",
    "- `s.strip()`\n",
    "- `s.replace(a,b)` replaces all ocurrances of `a` with `b` in the string `s`\n",
    "- `s.join()` joins all members of a collection into one string, separated by the the string `s`.\n",
    "- `s.isnumeric()` checks if `s` is numeric.\n",
    "\n",
    "\n",
    "\n",
    "\n"
   ]
  },
  {
   "cell_type": "code",
   "execution_count": 15,
   "metadata": {},
   "outputs": [
    {
     "name": "stdout",
     "output_type": "stream",
     "text": [
      "False\n"
     ]
    }
   ],
   "source": [
    "s = \"45la\"\n",
    "print(s.isnumeric())"
   ]
  },
  {
   "cell_type": "code",
   "execution_count": 19,
   "metadata": {},
   "outputs": [
    {
     "name": "stdout",
     "output_type": "stream",
     "text": [
      "0.33333\n"
     ]
    }
   ],
   "source": [
    "a = 1/3\n",
    "print(round(a,5))\n"
   ]
  },
  {
   "cell_type": "code",
   "execution_count": 17,
   "metadata": {},
   "outputs": [
    {
     "name": "stdout",
     "output_type": "stream",
     "text": [
      "9defg\n"
     ]
    }
   ],
   "source": [
    "a = \"abcdefg\"\n",
    "b = a.replace(\"abc\",\"9\")\n",
    "print(b)"
   ]
  },
  {
   "cell_type": "code",
   "execution_count": null,
   "metadata": {
    "colab": {
     "base_uri": "https://localhost:8080/",
     "height": 136
    },
    "colab_type": "code",
    "executionInfo": {
     "elapsed": 1047,
     "status": "ok",
     "timestamp": 1592282435818,
     "user": {
      "displayName": "Sherif Tawfik",
      "photoUrl": "https://lh6.googleusercontent.com/-pkq2qTyEGvM/AAAAAAAAAAI/AAAAAAAAFoA/jDXaFewCL-s/s64/photo.jpg",
      "userId": "08424006537682359657"
     },
     "user_tz": -600
    },
    "id": "ALvHwb7puKjI",
    "outputId": "ea305885-bf93-48e4-ba07-a3d84af9deeb"
   },
   "outputs": [],
   "source": [
    "a = 3\n",
    "print('Is a an int?',isinstance(a,int))\n",
    "\n",
    "a = 'this is some text'\n",
    "print(a.upper(),a.lower())\n",
    "\n",
    "a = '   lots of trailing spaces.    '\n",
    "print(a)\n",
    "print(a.strip())\n",
    "\n",
    "\n",
    "a = 'abcddefdd'\n",
    "print(a.replace('d','x'))\n",
    "\n",
    "print('abc'.join(['x','y','z']))"
   ]
  },
  {
   "cell_type": "markdown",
   "metadata": {
    "colab_type": "text",
    "id": "XSu7b8GzJMjo"
   },
   "source": [
    "**GOTO Lab exercises 5-10**"
   ]
  }
 ],
 "metadata": {
  "colab": {
   "authorship_tag": "ABX9TyMzFJXxsWI9u06Xs4EfYeVZ",
   "collapsed_sections": [],
   "name": "Class4.ipynb",
   "provenance": []
  },
  "kernelspec": {
   "display_name": "Python 3",
   "name": "python3"
  },
  "language_info": {
   "codemirror_mode": {
    "name": "ipython",
    "version": 3
   },
   "file_extension": ".py",
   "mimetype": "text/x-python",
   "name": "python",
   "nbconvert_exporter": "python",
   "pygments_lexer": "ipython3",
   "version": "3.11.9"
  }
 },
 "nbformat": 4,
 "nbformat_minor": 0
}
