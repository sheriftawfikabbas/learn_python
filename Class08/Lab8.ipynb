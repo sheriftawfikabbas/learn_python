{
 "cells": [
  {
   "cell_type": "markdown",
   "metadata": {
    "id": "jhi-lu6tmhg2"
   },
   "source": [
    "# Lab 8\n",
    "\n",
    "## Exercise 1:\n",
    "\n",
    "Write a recursive function that performs the following calculation: given a number `n`, it returns the sum `1 + 2 + 3 + .. + n`.\n"
   ]
  },
  {
   "cell_type": "code",
   "execution_count": null,
   "metadata": {
    "colab": {
     "base_uri": "https://localhost:8080/",
     "height": 34
    },
    "executionInfo": {
     "elapsed": 1066,
     "status": "ok",
     "timestamp": 1585272141913,
     "user": {
      "displayName": "Sherif Tawfik",
      "photoUrl": "https://lh6.googleusercontent.com/-pkq2qTyEGvM/AAAAAAAAAAI/AAAAAAAAFoA/jDXaFewCL-s/s64/photo.jpg",
      "userId": "08424006537682359657"
     },
     "user_tz": -660
    },
    "id": "K6VFVj5smfSv",
    "outputId": "5490f495-775d-4ff9-9b86-eaa2d629eb76"
   },
   "outputs": [],
   "source": [
    "def f(n):\n",
    "    print(n)\n",
    "    if n == 1:\n",
    "        return 1\n",
    "    else:\n",
    "        return n + f(n-1)\n",
    "f(10)"
   ]
  },
  {
   "cell_type": "markdown",
   "metadata": {},
   "source": [
    "## Exercise 2:\n",
    "\n",
    "Redo the previous one, summing only the even numbers that are smaller than `n`."
   ]
  },
  {
   "cell_type": "code",
   "execution_count": null,
   "metadata": {},
   "outputs": [],
   "source": [
    "def f(n):\n",
    "    print(n)\n",
    "    if n == 0:\n",
    "        return 0\n",
    "    if n % 2 == 0:\n",
    "        return n + f(n-2)\n",
    "    else:\n",
    "        return f(n-1)\n",
    "\n",
    "f(11)"
   ]
  },
  {
   "cell_type": "markdown",
   "metadata": {},
   "source": [
    "## Exercise 3:\n",
    "\n",
    "Redo the previous one, summing only the odd numbers that are smaller than or equal to `n`."
   ]
  },
  {
   "cell_type": "code",
   "execution_count": null,
   "metadata": {},
   "outputs": [],
   "source": [
    "def f(n):\n",
    "    print(n)\n",
    "    if n == 1:\n",
    "        return 0\n",
    "    if n % 2 == 1:\n",
    "        return n + f(n-2)\n",
    "    else:\n",
    "        return f(n-1)\n",
    "\n",
    "f(10)"
   ]
  },
  {
   "cell_type": "markdown",
   "metadata": {
    "id": "aMQsvgEiqdz9"
   },
   "source": [
    "\n",
    "## Exercise 4:\n",
    "\n",
    "Write a recursive function that calculates the factorial of a number. The factorial of `n`, denoted as `n!`, is calculated as `n * (n-1) * (n-2) .. 3 * 2 * 1`. If `n` is 0, the factorial is `1`.\n"
   ]
  },
  {
   "cell_type": "code",
   "execution_count": null,
   "metadata": {
    "colab": {
     "base_uri": "https://localhost:8080/",
     "height": 34
    },
    "executionInfo": {
     "elapsed": 661,
     "status": "ok",
     "timestamp": 1585272660517,
     "user": {
      "displayName": "Sherif Tawfik",
      "photoUrl": "https://lh6.googleusercontent.com/-pkq2qTyEGvM/AAAAAAAAAAI/AAAAAAAAFoA/jDXaFewCL-s/s64/photo.jpg",
      "userId": "08424006537682359657"
     },
     "user_tz": -660
    },
    "id": "K1mZrVx9qd6N",
    "outputId": "ed86c6bb-2a5c-4a01-91af-55c06ba88054"
   },
   "outputs": [],
   "source": []
  },
  {
   "cell_type": "markdown",
   "metadata": {
    "id": "Z8wbKlYuqymI"
   },
   "source": [
    "\n",
    "## Exercise 5:\n",
    "\n",
    "Write a recursive function that performs the following task. Starting with an integer variable `n`:\n",
    "1. if `n` is `1`, terminate the loop\n",
    "2. if `n` is even, divide it by `2`\n",
    "3. if `n` is odd, multiply it by `3`, then add `1`\n",
    "\n",
    "Does this function always terminate?\n"
   ]
  },
  {
   "cell_type": "code",
   "execution_count": null,
   "metadata": {
    "colab": {
     "base_uri": "https://localhost:8080/",
     "height": 459
    },
    "executionInfo": {
     "elapsed": 1082,
     "status": "ok",
     "timestamp": 1585273855742,
     "user": {
      "displayName": "Sherif Tawfik",
      "photoUrl": "https://lh6.googleusercontent.com/-pkq2qTyEGvM/AAAAAAAAAAI/AAAAAAAAFoA/jDXaFewCL-s/s64/photo.jpg",
      "userId": "08424006537682359657"
     },
     "user_tz": -660
    },
    "id": "83kQs1PRqysY",
    "outputId": "f3a98f6f-ce7a-41b9-8272-ab4131189e40"
   },
   "outputs": [],
   "source": [
    "def f(n):\n",
    "    print(n)\n",
    "    if n == 1:\n",
    "        return 1\n",
    "    elif n % 2 == 0:\n",
    "        return f(n/2)\n",
    "    else:\n",
    "        return f(3*n+1)\n",
    "\n",
    "print(f(100000000000))"
   ]
  },
  {
   "cell_type": "markdown",
   "metadata": {
    "id": "7Qc8qX9vr5rY"
   },
   "source": [
    "\n",
    "## Exercise 5:\n",
    "\n",
    "Convert the binary search algorithm into a recursive algorithm.\n"
   ]
  },
  {
   "cell_type": "code",
   "execution_count": null,
   "metadata": {
    "id": "Dam-le8Qr5zY"
   },
   "outputs": [],
   "source": [
    "def binary_search(the_list, value):\n",
    "  first = 0\n",
    "  last = len(the_list)-1\n",
    "  found = False\n",
    "  while first <= last and not found:\n",
    "    middle = (first + last)//2\n",
    "    if the_list[middle] == value:\n",
    "      found = True\n",
    "    else:\n",
    "      if value < the_list[middle]:\n",
    "        last = middle-1\n",
    "      else:\n",
    "        first = middle+1\n",
    "  return found\n",
    "\n",
    "l = range(1000000000000000)\n",
    "v = 100000000000\n",
    "\n",
    "print(binary_search(l,v))"
   ]
  },
  {
   "cell_type": "markdown",
   "metadata": {
    "id": "ByTvhL3-tBM-"
   },
   "source": [
    "\n",
    "## Exercise 6:\n",
    "\n",
    "This exercise is from Hackerank: https://www.hackerrank.com/challenges/write-a-function/problem"
   ]
  },
  {
   "cell_type": "code",
   "execution_count": null,
   "metadata": {
    "id": "t7O5PrIouLf4"
   },
   "outputs": [],
   "source": []
  },
  {
   "cell_type": "markdown",
   "metadata": {
    "id": "eG6qwb9wuL2T"
   },
   "source": [
    "## Exercise 7:\n",
    "\n",
    "This exercise is from Hackerank: https://www.hackerrank.com/challenges/text-alignment/problem"
   ]
  },
  {
   "cell_type": "code",
   "execution_count": null,
   "metadata": {
    "id": "NUzn9n2Fula0"
   },
   "outputs": [],
   "source": []
  },
  {
   "cell_type": "markdown",
   "metadata": {
    "id": "IfgWR7hDulkF"
   },
   "source": [
    "## Exercise 8:\n",
    "\n",
    "This exercise is based on the Hackerank problem https://www.hackerrank.com/challenges/word-order/problem:\n",
    "\n",
    "You are given a list `n` words. Some words may repeat. Write a function that, for each word in the list, will output its number of occurrences. The output order should correspond with the input order of appearance of the word. See the sample input/output for clarification.\n",
    "\n",
    "### Sample input:\n",
    "['bcdef','abcdefg','bcde','bcdef']\n",
    "\n",
    "### Output:\n",
    "\n",
    "`2 1 1`"
   ]
  },
  {
   "cell_type": "code",
   "execution_count": null,
   "metadata": {},
   "outputs": [],
   "source": []
  }
 ],
 "metadata": {
  "colab": {
   "authorship_tag": "ABX9TyM2MKrI/98TlihI8swKwO5w",
   "collapsed_sections": [],
   "provenance": []
  },
  "kernelspec": {
   "display_name": "Python 3",
   "name": "python3"
  },
  "language_info": {
   "codemirror_mode": {
    "name": "ipython",
    "version": 3
   },
   "file_extension": ".py",
   "mimetype": "text/x-python",
   "name": "python",
   "nbconvert_exporter": "python",
   "pygments_lexer": "ipython3",
   "version": "3.11.9"
  }
 },
 "nbformat": 4,
 "nbformat_minor": 0
}
