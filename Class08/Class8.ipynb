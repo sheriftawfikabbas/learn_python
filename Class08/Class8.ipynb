{
 "cells": [
  {
   "cell_type": "markdown",
   "metadata": {
    "id": "BtPMpok3DMo8"
   },
   "source": [
    "# Class 8: Object oriented programming 2\n",
    "\n",
    "## Learning outcomes\n",
    "\n",
    "At the completion of this unit students should be able to:\n",
    "\n",
    "1. Understand how to use the property decorator\n",
    "2. Understand how to create and use abstract classes\n",
    "3. Understand how to implement polymorphism\n",
    "\n",
    "## 8.1 The `property` decorator\n",
    "\n",
    "Python provides a mechanism for implementing managed attributes. These are class attributes that require some logic when they are being assigned. In other languages, managed attributes are implemented via getter and setter methods.\n",
    "\n",
    "Let's say a class `A` has a variable `a`. Here is the code to make `a` a managed attribute:\n"
   ]
  },
  {
   "cell_type": "code",
   "execution_count": 2,
   "metadata": {},
   "outputs": [
    {
     "name": "stdout",
     "output_type": "stream",
     "text": [
      "0\n"
     ]
    }
   ],
   "source": [
    "class A:\n",
    "    def __init__(self):\n",
    "        self.a = 0\n",
    "\n",
    "inst_A = A()\n",
    "print(inst_A.a)"
   ]
  },
  {
   "cell_type": "code",
   "execution_count": null,
   "metadata": {},
   "outputs": [
    {
     "name": "stdout",
     "output_type": "stream",
     "text": [
      "Called the setter\n",
      "Called the getter\n",
      "0\n"
     ]
    }
   ],
   "source": [
    "class A:\n",
    "    def __init__(self):\n",
    "        self._a = 0\n",
    "    @property\n",
    "    def a(self):\n",
    "        print('Called the getter')\n",
    "        return self._a\n",
    "\n",
    "    @a.setter\n",
    "    def a(self,b):\n",
    "        print('Called the setter')\n",
    "        if b < 0:\n",
    "            self._a = 0\n",
    "        else:\n",
    "            self._a = b\n",
    "\n",
    "inst_A = A()\n",
    "inst_A.a = -10\n",
    "print(inst_A.a)\n"
   ]
  },
  {
   "cell_type": "markdown",
   "metadata": {},
   "source": [
    "## 8.2 Abstract classes\n",
    "\n",
    "An abstract class is a class that does possess implementations for its methods. That is, it is a class that is created only to be inherited, and cannot be instantiated; it is \"abstract\".\n",
    "\n",
    "Let' take, for example, classs `AbstractClass` below."
   ]
  },
  {
   "cell_type": "code",
   "execution_count": null,
   "metadata": {},
   "outputs": [],
   "source": [
    "class AbstractClass:\n",
    "    \n",
    "    def some_method(self):\n",
    "        pass\n",
    "    \n",
    "    \n",
    "class ChildClass(AbstractClass):\n",
    "    pass\n",
    "\n",
    "a = AbstractClass()\n",
    "c = ChildClass()"
   ]
  },
  {
   "cell_type": "markdown",
   "metadata": {},
   "source": [
    "\n",
    "\n",
    "This class is not an abstract class because: it can be instantiated (that's variable `a`), and we don't have to implement `some_method()`.\n",
    "\n",
    "Python doesn't have a native implementation of abstract classes (as is the case in Java, C# and other languages). To implement abstract classes in python, we use the Abstract Base Class module, `abc`, as in the example below. Run this code and check the error you will get."
   ]
  },
  {
   "cell_type": "code",
   "execution_count": 10,
   "metadata": {
    "id": "YyylsJM0YAO8"
   },
   "outputs": [
    {
     "ename": "TypeError",
     "evalue": "Can't instantiate abstract class Animal with abstract method mobility",
     "output_type": "error",
     "traceback": [
      "\u001b[1;31m---------------------------------------------------------------------------\u001b[0m",
      "\u001b[1;31mTypeError\u001b[0m                                 Traceback (most recent call last)",
      "Cell \u001b[1;32mIn [10], line 13\u001b[0m\n\u001b[0;32m      9\u001b[0m     \u001b[38;5;129m@abstractmethod\u001b[39m\n\u001b[0;32m     10\u001b[0m     \u001b[38;5;28;01mdef\u001b[39;00m \u001b[38;5;21mmobility\u001b[39m(\u001b[38;5;28mself\u001b[39m):\n\u001b[0;32m     11\u001b[0m         \u001b[38;5;28;01mpass\u001b[39;00m\n\u001b[1;32m---> 13\u001b[0m a \u001b[38;5;241m=\u001b[39m \u001b[43mAnimal\u001b[49m\u001b[43m(\u001b[49m\u001b[43m)\u001b[49m\n",
      "\u001b[1;31mTypeError\u001b[0m: Can't instantiate abstract class Animal with abstract method mobility"
     ]
    }
   ],
   "source": [
    "\n",
    "from abc import ABC, abstractmethod\n",
    " \n",
    "class Animal(ABC):\n",
    " \n",
    "    def __init__(self):\n",
    "        super().__init__()\n",
    "        print(\"Animal is created\")\n",
    "    \n",
    "    @abstractmethod\n",
    "    def mobility(self):\n",
    "        pass\n",
    "\n",
    "a = Animal()"
   ]
  },
  {
   "cell_type": "markdown",
   "metadata": {
    "id": "3RbQxKHhYAVD"
   },
   "source": [
    "Now let's inherit this class.\n"
   ]
  },
  {
   "cell_type": "code",
   "execution_count": 11,
   "metadata": {
    "id": "d_a_GPiGDKFa"
   },
   "outputs": [
    {
     "ename": "TypeError",
     "evalue": "Can't instantiate abstract class Lion with abstract method mobility",
     "output_type": "error",
     "traceback": [
      "\u001b[1;31m---------------------------------------------------------------------------\u001b[0m",
      "\u001b[1;31mTypeError\u001b[0m                                 Traceback (most recent call last)",
      "Cell \u001b[1;32mIn [11], line 4\u001b[0m\n\u001b[0;32m      1\u001b[0m \u001b[38;5;28;01mclass\u001b[39;00m \u001b[38;5;21;01mLion\u001b[39;00m(Animal):\n\u001b[0;32m      2\u001b[0m   \u001b[38;5;28;01mpass\u001b[39;00m\n\u001b[1;32m----> 4\u001b[0m l \u001b[38;5;241m=\u001b[39m \u001b[43mLion\u001b[49m\u001b[43m(\u001b[49m\u001b[43m)\u001b[49m\n",
      "\u001b[1;31mTypeError\u001b[0m: Can't instantiate abstract class Lion with abstract method mobility"
     ]
    }
   ],
   "source": [
    "class Lion(Animal):\n",
    "  pass\n",
    "\n",
    "l = Lion()"
   ]
  },
  {
   "cell_type": "markdown",
   "metadata": {
    "id": "ubEV_K5qY3OD"
   },
   "source": [
    "The error above happened because we didn't define the method `mobility()`. So we must define it.\n"
   ]
  },
  {
   "cell_type": "code",
   "execution_count": 12,
   "metadata": {
    "colab": {
     "base_uri": "https://localhost:8080/",
     "height": 51
    },
    "executionInfo": {
     "elapsed": 826,
     "status": "ok",
     "timestamp": 1587664915889,
     "user": {
      "displayName": "Sherif Tawfik",
      "photoUrl": "https://lh6.googleusercontent.com/-pkq2qTyEGvM/AAAAAAAAAAI/AAAAAAAAFoA/jDXaFewCL-s/s64/photo.jpg",
      "userId": "08424006537682359657"
     },
     "user_tz": -600
    },
    "id": "f-DL_JJHZfLL",
    "outputId": "b061562f-64eb-4edb-ad9f-e6592b134dd3"
   },
   "outputs": [
    {
     "name": "stdout",
     "output_type": "stream",
     "text": [
      "Animal is created\n",
      "I walk\n"
     ]
    }
   ],
   "source": [
    "class Lion(Animal):\n",
    "  def mobility(self):\n",
    "    print('I walk')\n",
    "\n",
    "l = Lion()\n",
    "l.mobility()"
   ]
  },
  {
   "cell_type": "markdown",
   "metadata": {
    "id": "2pnWBFgnZfQ0"
   },
   "source": [
    "Abstract methods are identified by the *decorator* `@abstractmethod`. We will discuss decorators in an upcoming class.\n",
    "\n",
    "## 8.3 Polymorphism\n",
    "\n",
    "Polymorphism is Greek for \"multiple-forms\". It is one of the key OOPing concepts, and means that an object variable can have multiple types.\n",
    "\n",
    "What does this mean? Let's see how this works via an example code."
   ]
  },
  {
   "cell_type": "code",
   "execution_count": 13,
   "metadata": {
    "id": "ZtC8xrZhbtPV"
   },
   "outputs": [
    {
     "name": "stdout",
     "output_type": "stream",
     "text": [
      "Crocodile\n",
      "I crowl\n",
      "Tiger\n",
      "I run\n"
     ]
    }
   ],
   "source": [
    "class Crocodile(): \n",
    "     def name(self): \n",
    "       print(\"Crocodile\") \n",
    "     def mobility(self):\n",
    "       print(\"I crowl\") \n",
    "class Tiger(): \n",
    "     def name(self): \n",
    "       print(\"Tiger\") \n",
    "     def mobility(self):\n",
    "       print(\"I run\")\n",
    "      \n",
    "def call_methods(o): \n",
    "    o.name() \n",
    "    o.mobility()\n",
    "\n",
    "o1 = Crocodile() \n",
    "o2 = Tiger() \n",
    "call_methods(o1) \n",
    "call_methods(o2)"
   ]
  },
  {
   "cell_type": "markdown",
   "metadata": {
    "id": "C-r2SfsubtUw"
   },
   "source": [
    "You noticed what happened here? The function `call_methods(o)` calls the methods of some given object variable `o` if those methods exist. If they don't, we get an error.\n",
    "\n",
    "The interesting bit here is: if `o` is of type `Tiger`, only the `Tiger` methods will be called. If `o` is a `Crocodile`, the `Crocodile` methods will be called.\n",
    "\n",
    "So `o` inside `call_methods()` can have any type, as long as it has those two methods. Here, we say that `o` is **polymorphic**.\n",
    "\n",
    "Polymorphism can also work when the classes are related by inheritance. Let's look at this example.\n"
   ]
  },
  {
   "cell_type": "code",
   "execution_count": 14,
   "metadata": {
    "colab": {
     "base_uri": "https://localhost:8080/",
     "height": 171
    },
    "executionInfo": {
     "elapsed": 832,
     "status": "ok",
     "timestamp": 1587081715524,
     "user": {
      "displayName": "Sherif Tawfik",
      "photoUrl": "https://lh6.googleusercontent.com/-pkq2qTyEGvM/AAAAAAAAAAI/AAAAAAAAFoA/jDXaFewCL-s/s64/photo.jpg",
      "userId": "08424006537682359657"
     },
     "user_tz": -600
    },
    "id": "aeUn-XL66n9D",
    "outputId": "eabd4853-8524-445b-e68a-85c3c918f446"
   },
   "outputs": [
    {
     "name": "stdout",
     "output_type": "stream",
     "text": [
      "This is an animal, it's alive\n",
      "Crocodile\n",
      "I crowl\n",
      "This is an animal, it's alive\n",
      "Tiger\n",
      "I run\n",
      "This is an animal, it's alive\n",
      "Animal\n",
      "It depends on the specific animal\n"
     ]
    }
   ],
   "source": [
    "\n",
    "class Animal:\n",
    "  def intro(self):\n",
    "    print(\"This is an animal, it's alive\")\n",
    "  def name(self): \n",
    "    print(\"Animal\") \n",
    "  def mobility(self):\n",
    "    print(\"It depends on the specific animal\")\n",
    "\n",
    "class Crocodile(Animal): \n",
    "  def name(self): #Method overriding\n",
    "    print(\"Crocodile\") \n",
    "  def mobility(self):\n",
    "    print(\"I crowl\") \n",
    "\n",
    "class Tiger(Animal): \n",
    "  def name(self): \n",
    "    print(\"Tiger\") \n",
    "  def mobility(self):\n",
    "    print(\"I run\")\n",
    "      \n",
    "def call_methods(o): \n",
    "  o.intro()\n",
    "  o.name() \n",
    "  o.mobility()\n",
    "       \n",
    "        \n",
    "o1 = Crocodile() \n",
    "o2 = Tiger() \n",
    "o3 = Animal()\n",
    "\n",
    "call_methods(o1) \n",
    "call_methods(o2)\n",
    "call_methods(o3)"
   ]
  },
  {
   "cell_type": "markdown",
   "metadata": {
    "id": "kD6eFvHn6oCe"
   },
   "source": [
    "Again, `o` is polymorphic inside `call_methods(o)`: it can be of any of the three types. Polymorphism lets python call the method according to the type of the object.\n",
    "\n",
    "## 8.4 Exception handling\n",
    "\n",
    "### The `try`-`except` blocks\n",
    "An exception is an error that happens during the runtime of the program. This is in contrast to a compile-time error, which happens before running the program.\n",
    "\n",
    "In many OOPing languages, exceptions are handled by a special programming construct. In python, if you know that a specific line of code is going to *raise* an exception, you enclose it within a `try-except` block (in Java/C#, it is the `try-catch` block). The syntax is:\n",
    "\n",
    "```\n",
    "try:\n",
    "  problem statements\n",
    "except ExceptionClass:\n",
    "  exception handling code\n",
    "```\n",
    "Here, when the compiler encounters this statement, it will first attempt to run the `problem statements`. If any of them raises an exception, execution of the statements is terminated, and the the `exception handling code is exectued.\n",
    "\n",
    "For example, try to enter a few letters in the below `input()` statement, and see what will happen."
   ]
  },
  {
   "cell_type": "code",
   "execution_count": 16,
   "metadata": {},
   "outputs": [
    {
     "ename": "ValueError",
     "evalue": "invalid literal for int() with base 10: 'h'",
     "output_type": "error",
     "traceback": [
      "\u001b[1;31m---------------------------------------------------------------------------\u001b[0m",
      "\u001b[1;31mValueError\u001b[0m                                Traceback (most recent call last)",
      "Cell \u001b[1;32mIn [16], line 2\u001b[0m\n\u001b[0;32m      1\u001b[0m a \u001b[38;5;241m=\u001b[39m \u001b[38;5;28minput\u001b[39m()\n\u001b[1;32m----> 2\u001b[0m a \u001b[38;5;241m=\u001b[39m \u001b[38;5;28;43mint\u001b[39;49m\u001b[43m(\u001b[49m\u001b[43ma\u001b[49m\u001b[43m)\u001b[49m\n\u001b[0;32m      3\u001b[0m b \u001b[38;5;241m=\u001b[39m a \u001b[38;5;241m+\u001b[39m \u001b[38;5;241m4\u001b[39m\n\u001b[0;32m      4\u001b[0m \u001b[38;5;28mprint\u001b[39m(b)\n",
      "\u001b[1;31mValueError\u001b[0m: invalid literal for int() with base 10: 'h'"
     ]
    }
   ],
   "source": [
    "a = input()\n",
    "a = int(a)\n",
    "b = a + 4\n",
    "print(b)"
   ]
  },
  {
   "cell_type": "code",
   "execution_count": null,
   "metadata": {
    "colab": {
     "base_uri": "https://localhost:8080/",
     "height": 68
    },
    "executionInfo": {
     "elapsed": 21206,
     "status": "ok",
     "timestamp": 1587082732881,
     "user": {
      "displayName": "Sherif Tawfik",
      "photoUrl": "https://lh6.googleusercontent.com/-pkq2qTyEGvM/AAAAAAAAAAI/AAAAAAAAFoA/jDXaFewCL-s/s64/photo.jpg",
      "userId": "08424006537682359657"
     },
     "user_tz": -600
    },
    "id": "do8S9R9D89Hu",
    "outputId": "873c8301-4b70-4639-f229-6e4b94cb5e88"
   },
   "outputs": [
    {
     "name": "stdout",
     "output_type": "stream",
     "text": [
      "you should input an integer\n",
      "you should input an integer\n",
      "you should input an integer\n",
      "you should input an integer\n",
      "12\n"
     ]
    }
   ],
   "source": [
    "while True:\n",
    "    a = input()\n",
    "    try:\n",
    "        a = int(a)\n",
    "        b = a + 4\n",
    "        print(b)\n",
    "        break\n",
    "    except:\n",
    "        print('you should input an integer')"
   ]
  },
  {
   "cell_type": "markdown",
   "metadata": {
    "id": "rzwaN9449c9Z"
   },
   "source": [
    "You can also get the information about the raised Exception using the `as` keyword:\n",
    "\n",
    "\n",
    "```\n",
    "try:\n",
    "  problem statements\n",
    "except ExceptionClass as e:\n",
    "  exception handling code\n",
    "```\n",
    "\n",
    "Here is an example:"
   ]
  },
  {
   "cell_type": "code",
   "execution_count": 2,
   "metadata": {
    "colab": {
     "base_uri": "https://localhost:8080/",
     "height": 68
    },
    "executionInfo": {
     "elapsed": 9303,
     "status": "ok",
     "timestamp": 1587082874458,
     "user": {
      "displayName": "Sherif Tawfik",
      "photoUrl": "https://lh6.googleusercontent.com/-pkq2qTyEGvM/AAAAAAAAAAI/AAAAAAAAFoA/jDXaFewCL-s/s64/photo.jpg",
      "userId": "08424006537682359657"
     },
     "user_tz": -600
    },
    "id": "d_44ZEqN9n60",
    "outputId": "6ba4999e-8d47-404f-8ce1-b9611049a963"
   },
   "outputs": [
    {
     "name": "stdout",
     "output_type": "stream",
     "text": [
      "You entered a string, try again!\n"
     ]
    }
   ],
   "source": [
    "while True:\n",
    "    try:\n",
    "        a = input()\n",
    "        b = int(a)\n",
    "        if b == -1:\n",
    "            break\n",
    "        print(b+3)\n",
    "    except:\n",
    "        print(\"You entered a string, try again!\")\n",
    "\n",
    "\n",
    "print(\"Done\")"
   ]
  },
  {
   "cell_type": "markdown",
   "metadata": {},
   "source": [
    "### The `try`-`except`-`else`-`finally` blocks\n",
    "\n",
    "The `try` block in python has 2 blocks, but it can take up to four blocks:\n",
    "\n",
    "```\n",
    "try:\n",
    "  problem statements\n",
    "except ExceptionClass as e:\n",
    "  exception handling code\n",
    "else:\n",
    "  exception didn't happen\n",
    "finally:\n",
    "  execute this block anyway\n",
    "```\n",
    "\n",
    "Here is an example:"
   ]
  },
  {
   "cell_type": "code",
   "execution_count": null,
   "metadata": {},
   "outputs": [
    {
     "name": "stdout",
     "output_type": "stream",
     "text": [
      "No exception happened..\n",
      "Anyway, that was an example of exception handling.\n"
     ]
    }
   ],
   "source": [
    "a=1;b=1\n",
    "try:\n",
    "  c=a/b\n",
    "except:\n",
    "  print('Woops, something wrong happened!')\n",
    "else:\n",
    "  print('No exception happened..')\n",
    "finally:\n",
    "  print('Anyway, that was an example of exception handling.')"
   ]
  },
  {
   "cell_type": "markdown",
   "metadata": {},
   "source": [
    "### Explicitly raising an exception: the `raise` keyword\n",
    "\n",
    "You can raise an exception in your code to interrupt program execution at will. This is by using the `raise` keyword. Here is an example."
   ]
  },
  {
   "cell_type": "code",
   "execution_count": 3,
   "metadata": {},
   "outputs": [
    {
     "name": "stdout",
     "output_type": "stream",
     "text": [
      "I am raising an exception now. For no reason.\n"
     ]
    },
    {
     "ename": "Exception",
     "evalue": "An exception was raised without any reason!",
     "output_type": "error",
     "traceback": [
      "\u001b[1;31m---------------------------------------------------------------------------\u001b[0m",
      "\u001b[1;31mException\u001b[0m                                 Traceback (most recent call last)",
      "Cell \u001b[1;32mIn[3], line 2\u001b[0m\n\u001b[0;32m      1\u001b[0m \u001b[38;5;28mprint\u001b[39m(\u001b[38;5;124m'\u001b[39m\u001b[38;5;124mI am raising an exception now. For no reason.\u001b[39m\u001b[38;5;124m'\u001b[39m)\n\u001b[1;32m----> 2\u001b[0m \u001b[38;5;28;01mraise\u001b[39;00m \u001b[38;5;167;01mException\u001b[39;00m(\u001b[38;5;124m'\u001b[39m\u001b[38;5;124mAn exception was raised without any reason!\u001b[39m\u001b[38;5;124m'\u001b[39m)\n",
      "\u001b[1;31mException\u001b[0m: An exception was raised without any reason!"
     ]
    }
   ],
   "source": [
    "print('I am raising an exception now. For no reason.')\n",
    "raise Exception('An exception was raised without any reason!')"
   ]
  },
  {
   "cell_type": "code",
   "execution_count": 25,
   "metadata": {},
   "outputs": [
    {
     "name": "stdout",
     "output_type": "stream",
     "text": [
      "oops I did it again!\n"
     ]
    }
   ],
   "source": [
    "try:\n",
    "    a = 1\n",
    "    raise Exception('oops I did it again!')\n",
    "except ValueError as ex:\n",
    "    print(ex)\n",
    "except Exception as ex:\n",
    "    print(ex)\n"
   ]
  },
  {
   "cell_type": "markdown",
   "metadata": {},
   "source": [
    "### Creating custom Exception classes\n",
    "\n",
    "In the clause `except Exception as e:`, the `Exception` is the name of a class. You've seen several example of various classes that inheret the `Exception` class, such as `ValueError`. You can create your own `Exception` subclass that handles a particular type of errors.\n",
    "\n",
    "So, the `Exception` class identifies a general exception handler, which handles every exception, whereas exception subclasses handle specific exceptions. You can handle multiple exceptions by adding multiple `except` blocks in your code. The way the exception handler works is top-to-bottom: if searches your `except` blocks, starting from the first one, to an appropriate exception handler. Once it fires the `except` block, no further except blocks will be executed.\n",
    "\n",
    "Here is an example:"
   ]
  },
  {
   "cell_type": "code",
   "execution_count": 9,
   "metadata": {},
   "outputs": [
    {
     "name": "stdout",
     "output_type": "stream",
     "text": [
      "Woops, something wrong happened!\n",
      "Anyway, that was an example of exception handling.\n"
     ]
    }
   ],
   "source": [
    "a = 1\n",
    "b = 0\n",
    "try:\n",
    "    c = a / b\n",
    "    p = [0]\n",
    "    q = p[1]\n",
    "except ZeroDivisionError as e:\n",
    "    print(\"Woops, division by zero!!\")\n",
    "except Exception as e:\n",
    "    print(\"Woops, something wrong happened!\")\n",
    "else:\n",
    "    print(\"No exception happened..\")\n",
    "finally:\n",
    "    print(\"Anyway, that was an example of exception handling.\")"
   ]
  },
  {
   "cell_type": "code",
   "execution_count": 10,
   "metadata": {},
   "outputs": [
    {
     "name": "stdout",
     "output_type": "stream",
     "text": [
      "Woops, MyDivByZero was raised!\n",
      "Anyway, that was an example of exception handling.\n"
     ]
    }
   ],
   "source": [
    "class MyDivByZero(Exception):\n",
    "  pass\n",
    "\n",
    "a=1;b=0\n",
    "try:\n",
    "  if b==0:\n",
    "    raise MyDivByZero('MyDivByZero:woops!')\n",
    "except MyDivByZero:\n",
    "  print('Woops, MyDivByZero was raised!')\n",
    "except Exception:\n",
    "  print('Woops, something wrong happened, but it\\' generic!')\n",
    "else:\n",
    "  print('No exception happened..')\n",
    "finally:\n",
    "  print('Anyway, that was an example of exception handling.')"
   ]
  },
  {
   "cell_type": "markdown",
   "metadata": {},
   "source": [
    "Now check out what happens when you put the `except` blocks in the wrong order:"
   ]
  },
  {
   "cell_type": "code",
   "execution_count": null,
   "metadata": {},
   "outputs": [],
   "source": [
    "a=1;b=0\n",
    "try:\n",
    "  if b==0:\n",
    "    raise MyDivByZero('MyDivByZero:woops!')\n",
    "except Exception:\n",
    "  print('Woops, something wrong happened, but it\\' generic!')\n",
    "except MyDivByZero:\n",
    "  print('Woops, MyDivByZero was raised!')\n",
    "else:\n",
    "  print('No exception happened..')\n",
    "finally:\n",
    "  print('Anyway, that was an example of exception handling.')"
   ]
  },
  {
   "cell_type": "markdown",
   "metadata": {
    "id": "Ow1EM_XH_Jz0"
   },
   "source": [
    "**GOTO Lab exercises 1-3**"
   ]
  }
 ],
 "metadata": {
  "colab": {
   "authorship_tag": "ABX9TyPSAbO7uzYGCB6zI+nCvcKM",
   "collapsed_sections": [],
   "provenance": []
  },
  "kernelspec": {
   "display_name": "Python 3",
   "name": "python3"
  },
  "language_info": {
   "codemirror_mode": {
    "name": "ipython",
    "version": 3
   },
   "file_extension": ".py",
   "mimetype": "text/x-python",
   "name": "python",
   "nbconvert_exporter": "python",
   "pygments_lexer": "ipython3",
   "version": "3.10.11"
  }
 },
 "nbformat": 4,
 "nbformat_minor": 0
}
