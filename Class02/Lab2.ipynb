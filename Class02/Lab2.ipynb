{
 "cells": [
  {
   "cell_type": "markdown",
   "metadata": {
    "id": "kRR6E7DD456x"
   },
   "source": [
    "# Lab 2\n",
    "\n",
    "## Exercise 1:\n",
    "\n",
    "Ask the user to enter two numbers, then create a list, put the numbers in the list, and then print it out."
   ]
  },
  {
   "cell_type": "code",
   "execution_count": null,
   "metadata": {
    "colab": {
     "base_uri": "https://localhost:8080/",
     "height": 69
    },
    "executionInfo": {
     "elapsed": 12476,
     "status": "ok",
     "timestamp": 1590103830755,
     "user": {
      "displayName": "Sherif Tawfik",
      "photoUrl": "https://lh6.googleusercontent.com/-pkq2qTyEGvM/AAAAAAAAAAI/AAAAAAAAFoA/jDXaFewCL-s/s64/photo.jpg",
      "userId": "08424006537682359657"
     },
     "user_tz": -600
    },
    "id": "YMDPDg4L4so6",
    "outputId": "b3ae85de-2dc7-4cc2-e769-4f1966f758ad"
   },
   "outputs": [],
   "source": []
  },
  {
   "cell_type": "markdown",
   "metadata": {
    "id": "lFmO2jd5KD2O"
   },
   "source": [
    "## Exercise 2:\n",
    "\n",
    "The list `k` is defined as: `k=['4','5','6']`. Write code the adds up the number values of the elments of `k`, and prints it out."
   ]
  },
  {
   "cell_type": "code",
   "execution_count": null,
   "metadata": {
    "colab": {
     "base_uri": "https://localhost:8080/",
     "height": 34
    },
    "executionInfo": {
     "elapsed": 842,
     "status": "ok",
     "timestamp": 1590104024329,
     "user": {
      "displayName": "Sherif Tawfik",
      "photoUrl": "https://lh6.googleusercontent.com/-pkq2qTyEGvM/AAAAAAAAAAI/AAAAAAAAFoA/jDXaFewCL-s/s64/photo.jpg",
      "userId": "08424006537682359657"
     },
     "user_tz": -600
    },
    "id": "2aZv_iryMIZn",
    "outputId": "d63e9189-9ad6-437c-9497-20f50efed7de"
   },
   "outputs": [],
   "source": []
  },
  {
   "cell_type": "markdown",
   "metadata": {
    "id": "xdi5TsxlMIkO"
   },
   "source": [
    "# Exercise 3:\n",
    "\n",
    "Create an empty list, `nums`, then use list functions to:\n",
    "- add numbers 2 and 1 to the list\n",
    "- add the elements of the list `[10,4,7]` to the end of `nums`\n",
    "- sort the list\n",
    "- print the output"
   ]
  },
  {
   "cell_type": "code",
   "execution_count": null,
   "metadata": {
    "colab": {
     "base_uri": "https://localhost:8080/",
     "height": 51
    },
    "executionInfo": {
     "elapsed": 1722,
     "status": "ok",
     "timestamp": 1593948089001,
     "user": {
      "displayName": "Sherif Tawfik",
      "photoUrl": "https://lh6.googleusercontent.com/-pkq2qTyEGvM/AAAAAAAAAAI/AAAAAAAAFoA/jDXaFewCL-s/s64/photo.jpg",
      "userId": "08424006537682359657"
     },
     "user_tz": -600
    },
    "id": "LU0B8ATJO5Q_",
    "outputId": "e47a643b-6659-4f75-d38c-c66671bd7f71"
   },
   "outputs": [],
   "source": []
  },
  {
   "cell_type": "markdown",
   "metadata": {
    "id": "X84gs_p3ja-k"
   },
   "source": [
    "# Exercise 4:\n",
    "\n",
    "A list of lists can represent a table. For example, the list below\n",
    "\n",
    "```\n",
    "a = [[3,8],[2,8],[1,9]]\n",
    "```\n",
    "\n",
    "can be seen as a table with 3 rows, 2 columns. So each element in `a` is a row, and each element in `a[0]` is in a column.\n",
    "\n",
    "White a list that stores the data in the following table, then print it out.\n",
    "\n",
    "| col 1| col 2 | col 3|\n",
    "| --- | --- | --- |\n",
    "3|5|7\n",
    "2|1|0\n",
    "10|3|1\n",
    "4|23|1\n"
   ]
  },
  {
   "cell_type": "code",
   "execution_count": null,
   "metadata": {
    "colab": {
     "base_uri": "https://localhost:8080/",
     "height": 34
    },
    "executionInfo": {
     "elapsed": 1473,
     "status": "ok",
     "timestamp": 1593948216897,
     "user": {
      "displayName": "Sherif Tawfik",
      "photoUrl": "https://lh6.googleusercontent.com/-pkq2qTyEGvM/AAAAAAAAAAI/AAAAAAAAFoA/jDXaFewCL-s/s64/photo.jpg",
      "userId": "08424006537682359657"
     },
     "user_tz": -600
    },
    "id": "nCWcHolLlC3U",
    "outputId": "152fc226-1aac-49ac-a10c-ce3081fc4d8a"
   },
   "outputs": [],
   "source": []
  },
  {
   "cell_type": "markdown",
   "metadata": {
    "id": "fPSqt9gOlDY6"
   },
   "source": [
    "# Exercise 5:\n",
    "\n",
    "Let the user enter 4 strings. Then add them to a list. Sort them, and print them out."
   ]
  },
  {
   "cell_type": "code",
   "execution_count": null,
   "metadata": {
    "colab": {
     "base_uri": "https://localhost:8080/",
     "height": 104
    },
    "executionInfo": {
     "elapsed": 11787,
     "status": "ok",
     "timestamp": 1590105444592,
     "user": {
      "displayName": "Sherif Tawfik",
      "photoUrl": "https://lh6.googleusercontent.com/-pkq2qTyEGvM/AAAAAAAAAAI/AAAAAAAAFoA/jDXaFewCL-s/s64/photo.jpg",
      "userId": "08424006537682359657"
     },
     "user_tz": -600
    },
    "id": "q6oZBH9ooQJP",
    "outputId": "ee8683eb-2e21-42b4-965e-84e48185388b"
   },
   "outputs": [],
   "source": []
  },
  {
   "cell_type": "markdown",
   "metadata": {
    "id": "JYyi2cJCoQT0"
   },
   "source": [
    "# Exercise 6:\n",
    "\n",
    "Let the user enter a string, then print out the number of occurrence of vowels."
   ]
  },
  {
   "cell_type": "code",
   "execution_count": null,
   "metadata": {
    "colab": {
     "base_uri": "https://localhost:8080/",
     "height": 174
    },
    "executionInfo": {
     "elapsed": 28343,
     "status": "ok",
     "timestamp": 1590106092598,
     "user": {
      "displayName": "Sherif Tawfik",
      "photoUrl": "https://lh6.googleusercontent.com/-pkq2qTyEGvM/AAAAAAAAAAI/AAAAAAAAFoA/jDXaFewCL-s/s64/photo.jpg",
      "userId": "08424006537682359657"
     },
     "user_tz": -600
    },
    "id": "tnlFsniqodrN",
    "outputId": "253e7d5f-164f-446d-d290-a666fc278bb9"
   },
   "outputs": [],
   "source": []
  },
  {
   "cell_type": "markdown",
   "metadata": {
    "id": "wtKnpZ2yod_4"
   },
   "source": [
    "# Exercise 7:\n",
    "\n",
    "Create a dictionary to represent the following key-value pairs. There are the prices of second hand cars in a dealership.\n",
    "\n",
    "| Car| Price|\n",
    "| --- | --- | \n",
    "Camry | 20000\n",
    "Mercedes C| 30000\n",
    "Holden Astra| 10000\n",
    "Mazda 6 | 15000"
   ]
  },
  {
   "cell_type": "code",
   "execution_count": null,
   "metadata": {
    "colab": {
     "base_uri": "https://localhost:8080/",
     "height": 34
    },
    "executionInfo": {
     "elapsed": 815,
     "status": "ok",
     "timestamp": 1590107391732,
     "user": {
      "displayName": "Sherif Tawfik",
      "photoUrl": "https://lh6.googleusercontent.com/-pkq2qTyEGvM/AAAAAAAAAAI/AAAAAAAAFoA/jDXaFewCL-s/s64/photo.jpg",
      "userId": "08424006537682359657"
     },
     "user_tz": -600
    },
    "id": "SovYS3rmpoUw",
    "outputId": "012c35b6-c6d2-4397-ff05-ccbb3e39eeaf"
   },
   "outputs": [],
   "source": []
  }
 ],
 "metadata": {
  "colab": {
   "authorship_tag": "ABX9TyOQXqwygmNPDKvuPd8RjMhI",
   "collapsed_sections": [],
   "provenance": []
  },
  "kernelspec": {
   "display_name": "Python 3",
   "name": "python3"
  }
 },
 "nbformat": 4,
 "nbformat_minor": 0
}
