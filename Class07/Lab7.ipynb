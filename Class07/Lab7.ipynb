{
 "cells": [
  {
   "cell_type": "markdown",
   "metadata": {
    "id": "uZWeHgVNWboI"
   },
   "source": [
    "# Lab 7\n",
    "\n",
    "## Exercise 1: (Quiz)\n",
    "\n",
    "Create a class `Animal` that has the following variables: `type`, `age`, `name`. Create 3 animals: a tiger, a lizard and a crocodile. The tiger's name is `Alex` and is 2 years old. The Lizard's name is `Alice` and is 3 weeks old. The crocodile's name is `Mazen` and is 1 year old."
   ]
  },
  {
   "cell_type": "code",
   "execution_count": null,
   "metadata": {
    "id": "GNyyRsWvWQsM"
   },
   "outputs": [],
   "source": []
  }
 ],
 "metadata": {
  "colab": {
   "authorship_tag": "ABX9TyPjIx8lQzvdXDVCbEbM5PDH",
   "collapsed_sections": [],
   "provenance": []
  },
  "kernelspec": {
   "display_name": "Python 3",
   "name": "python3"
  }
 },
 "nbformat": 4,
 "nbformat_minor": 0
}
