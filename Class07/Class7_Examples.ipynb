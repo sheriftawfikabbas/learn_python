{
 "cells": [
  {
   "cell_type": "code",
   "execution_count": null,
   "metadata": {
    "colab": {
     "base_uri": "https://localhost:8080/",
     "height": 34
    },
    "executionInfo": {
     "elapsed": 1099,
     "status": "ok",
     "timestamp": 1585869643630,
     "user": {
      "displayName": "Sherif Tawfik",
      "photoUrl": "https://lh6.googleusercontent.com/-pkq2qTyEGvM/AAAAAAAAAAI/AAAAAAAAFoA/jDXaFewCL-s/s64/photo.jpg",
      "userId": "08424006537682359657"
     },
     "user_tz": -660
    },
    "id": "oY8U0KUOCca9",
    "outputId": "cfa23e92-035b-4dd1-fb7b-25b7d1ffa2f9"
   },
   "outputs": [
    {
     "name": "stdout",
     "output_type": "stream",
     "text": [
      "2 3 6\n"
     ]
    }
   ],
   "source": [
    "class Rectangle:\n",
    "  counter = 0\n",
    "  \n",
    "  def area(me):\n",
    "    return me.length * me.width\n",
    "\n",
    "  def __init__(me,l,w):\n",
    "    me.length = l\n",
    "    me.width = w\n",
    "    Rectangle.counter+=1\n",
    "###########\n",
    "\n",
    "r = Rectangle(2,3)\n",
    "print(r.length,r.width,r.area())\n"
   ]
  },
  {
   "cell_type": "code",
   "execution_count": null,
   "metadata": {
    "colab": {
     "base_uri": "https://localhost:8080/",
     "height": 34
    },
    "executionInfo": {
     "elapsed": 1142,
     "status": "ok",
     "timestamp": 1585870432894,
     "user": {
      "displayName": "Sherif Tawfik",
      "photoUrl": "https://lh6.googleusercontent.com/-pkq2qTyEGvM/AAAAAAAAAAI/AAAAAAAAFoA/jDXaFewCL-s/s64/photo.jpg",
      "userId": "08424006537682359657"
     },
     "user_tz": -660
    },
    "id": "9JuYktRtM_b6",
    "outputId": "b79ffadf-a109-4495-f836-ddfc8bc0ec41"
   },
   "outputs": [
    {
     "name": "stdout",
     "output_type": "stream",
     "text": [
      "Ahmed Kabir 01/12/1790 works at Accounting\n"
     ]
    }
   ],
   "source": [
    "class Employee:\n",
    "  def __init__(self,fn,ln,dob,jn,department):\n",
    "    \n",
    "    self.firstName=fn\n",
    "    self.lastName=ln\n",
    "    self.dob=dob\n",
    "    self.joiningDate=jn\n",
    "    self.department=department\n",
    "  \n",
    "  def printData(self):\n",
    "    print(self.firstName,self.lastName,self.dob,'works at',self.department)\n",
    "\n",
    "listOfEmployees=[Employee('Zoe','Balboa','02/03/1856','02/05/2019','Vampires'),\n",
    "Employee('Ahmed','Kabir','01/12/1790','01/01/2020','Accounting')]\n",
    "\n",
    "listOfEmployees[1].printData()\n",
    "\n",
    "\n"
   ]
  },
  {
   "cell_type": "code",
   "execution_count": null,
   "metadata": {
    "colab": {
     "base_uri": "https://localhost:8080/",
     "height": 34
    },
    "executionInfo": {
     "elapsed": 1077,
     "status": "ok",
     "timestamp": 1585870614377,
     "user": {
      "displayName": "Sherif Tawfik",
      "photoUrl": "https://lh6.googleusercontent.com/-pkq2qTyEGvM/AAAAAAAAAAI/AAAAAAAAFoA/jDXaFewCL-s/s64/photo.jpg",
      "userId": "08424006537682359657"
     },
     "user_tz": -660
    },
    "id": "X021GsT4PwYh",
    "outputId": "d083ca5e-6994-445b-d290-a870fec2b2d7"
   },
   "outputs": [
    {
     "name": "stdout",
     "output_type": "stream",
     "text": [
      "4\n"
     ]
    }
   ],
   "source": [
    "#Class scope\n",
    "\n",
    "\n",
    "class ABC:\n",
    "  v = 4\n",
    "\n",
    "def f():\n",
    "  g = 5\n",
    "\n",
    "print(ABC.v)"
   ]
  },
  {
   "cell_type": "code",
   "execution_count": null,
   "metadata": {
    "id": "KmsMonNJkjdM"
   },
   "outputs": [],
   "source": [
    "#Inheritance\n",
    "\n",
    "class Animal:\n",
    "  def __init__(self,g,n,m,a,habitat):\n",
    "    self.gender=g\n",
    "    self.name=n\n",
    "    self.motility=m\n",
    "    self.age=a\n",
    "    self.habitat=habitat\n",
    "\n",
    "class Tiger(Animal):\n",
    "  def __init__(self,g,n,m,a,habitat,stripes):\n",
    "    super().__init__(g,n,m,a,habitat)\n",
    "    self.numberOfStripes=stripes\n",
    "\n",
    "class Shark(Animal):\n",
    "  def __init__(self,g,n,m,a,habitat,ds):\n",
    "    Animal.__init__(self,g,n,m,a,habitat)\n",
    "    self.divingSpeed=ds\n",
    "\n",
    "class TigerShark(Shark):\n",
    "  pass\n",
    "\n",
    "t=Tiger('female','Zoe','running','15 years','land','black and yellow')\n",
    "s=Shark('make','Joe','diving','30 years','water','25 mph')\n"
   ]
  }
 ],
 "metadata": {
  "colab": {
   "authorship_tag": "ABX9TyPn2/k/lAC05XxlNYKkicFb",
   "collapsed_sections": [],
   "provenance": []
  },
  "kernelspec": {
   "display_name": "Python 3",
   "name": "python3"
  }
 },
 "nbformat": 4,
 "nbformat_minor": 0
}
