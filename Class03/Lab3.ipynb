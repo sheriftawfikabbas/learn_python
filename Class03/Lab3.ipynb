{
 "cells": [
  {
   "cell_type": "markdown",
   "metadata": {
    "id": "AzGIDGdRF3-W"
   },
   "source": [
    "# Lab 3\n",
    "\n",
    "## Exercise 1:\n",
    "\n",
    "Create a variable, store something in it. If the value is not a number, print `That is not a number!`. If the value is a number, just print it out."
   ]
  },
  {
   "cell_type": "code",
   "execution_count": null,
   "metadata": {
    "colab": {
     "base_uri": "https://localhost:8080/"
    },
    "executionInfo": {
     "elapsed": 284,
     "status": "ok",
     "timestamp": 1663765360921,
     "user": {
      "displayName": "Sherif Tawfik",
      "userId": "08424006537682359657"
     },
     "user_tz": -600
    },
    "id": "aMw7Qbfk7Fd2",
    "outputId": "6b433b5f-27fa-4510-9c70-da3197b0d7f9"
   },
   "outputs": [],
   "source": []
  },
  {
   "cell_type": "markdown",
   "metadata": {
    "id": "QLlgMRB9Dind"
   },
   "source": [
    "\n",
    "## Exercise 2:\n",
    "\n",
    "Write code that asks the user for a number, then adds all numbers smaller and equal to that number. For example, if the user enters 5, the code will calculate `1+2+3+4+5`."
   ]
  },
  {
   "cell_type": "code",
   "execution_count": null,
   "metadata": {
    "colab": {
     "base_uri": "https://localhost:8080/",
     "height": 68
    },
    "executionInfo": {
     "elapsed": 2928,
     "status": "ok",
     "timestamp": 1589503590692,
     "user": {
      "displayName": "Sherif Tawfik",
      "photoUrl": "https://lh6.googleusercontent.com/-pkq2qTyEGvM/AAAAAAAAAAI/AAAAAAAAFoA/jDXaFewCL-s/s64/photo.jpg",
      "userId": "08424006537682359657"
     },
     "user_tz": -600
    },
    "id": "FZoIzU4-DiMO",
    "outputId": "72b9ce8f-764b-40b7-d721-915d74f5eedd"
   },
   "outputs": [],
   "source": []
  },
  {
   "cell_type": "markdown",
   "metadata": {
    "id": "EUp3KTBEZ8FL"
   },
   "source": [
    "\n",
    "## Exercise 3:\n",
    "\n",
    "Write a loop that finds if a give string is a palindrome."
   ]
  },
  {
   "cell_type": "code",
   "execution_count": null,
   "metadata": {
    "id": "W2jkjbkZZ8N2"
   },
   "outputs": [],
   "source": []
  },
  {
   "cell_type": "markdown",
   "metadata": {
    "id": "ZXRZ2BP4G3IC"
   },
   "source": [
    "## Exercise 4:\n",
    "\n",
    "Write a loop that counts the number of ocurrances of the string `\"a\"` in a string.\n"
   ]
  },
  {
   "cell_type": "code",
   "execution_count": null,
   "metadata": {
    "id": "xras9-B3G31j"
   },
   "outputs": [],
   "source": []
  },
  {
   "cell_type": "markdown",
   "metadata": {
    "id": "NBlIc-p3tKGU"
   },
   "source": [
    "# Exercise 5:\n",
    "\n",
    "Write a loop that counts the number of ocurrances of the string `\"ab\"` in a string.\n"
   ]
  },
  {
   "cell_type": "code",
   "execution_count": null,
   "metadata": {
    "id": "vhZ7uT2-tKOi"
   },
   "outputs": [],
   "source": []
  },
  {
   "cell_type": "markdown",
   "metadata": {
    "id": "GMIImGXjX4PL"
   },
   "source": [
    "# Exercise 6:\n",
    "\n",
    "Write a loop that counts the number of digits (0-9) in a string.\n",
    "\n"
   ]
  },
  {
   "cell_type": "code",
   "execution_count": null,
   "metadata": {
    "id": "qhlgifIuX4aP"
   },
   "outputs": [],
   "source": []
  },
  {
   "cell_type": "markdown",
   "metadata": {
    "id": "MBNjN570GMBI"
   },
   "source": [
    "# Exercise 7:\n",
    "\n",
    "Ask the user to enter a number. If the value is not a number, print `Please try again!`, then prompt the user to enter a number again. If the user enters a number, print it out and exit the program."
   ]
  },
  {
   "cell_type": "code",
   "execution_count": null,
   "metadata": {
    "id": "zRoqxWEeG1lb"
   },
   "outputs": [],
   "source": []
  },
  {
   "cell_type": "markdown",
   "metadata": {
    "id": "Z9zxlJmTnxcv"
   },
   "source": [
    "# Exercise 8:\n",
    "\n",
    "Write a list flattening loop that flattens a list of lists of elements into a list of elements."
   ]
  },
  {
   "cell_type": "code",
   "execution_count": null,
   "metadata": {
    "colab": {
     "base_uri": "https://localhost:8080/",
     "height": 34
    },
    "executionInfo": {
     "elapsed": 914,
     "status": "ok",
     "timestamp": 1589508100125,
     "user": {
      "displayName": "Sherif Tawfik",
      "photoUrl": "https://lh6.googleusercontent.com/-pkq2qTyEGvM/AAAAAAAAAAI/AAAAAAAAFoA/jDXaFewCL-s/s64/photo.jpg",
      "userId": "08424006537682359657"
     },
     "user_tz": -600
    },
    "id": "cjfJaatPnwLA",
    "outputId": "16de28cd-f57b-4e1f-dc4d-90231a53134c"
   },
   "outputs": [],
   "source": []
  },
  {
   "cell_type": "markdown",
   "metadata": {
    "id": "FihagBPsoAYN"
   },
   "source": [
    "# Exercise 9:\n",
    "\n",
    "Like the loop before, except that your list of lists can also have elements. Your loop needs to take account of those elements (which are not lists)."
   ]
  },
  {
   "cell_type": "code",
   "execution_count": null,
   "metadata": {
    "colab": {
     "base_uri": "https://localhost:8080/",
     "height": 34
    },
    "executionInfo": {
     "elapsed": 831,
     "status": "ok",
     "timestamp": 1589508477072,
     "user": {
      "displayName": "Sherif Tawfik",
      "photoUrl": "https://lh6.googleusercontent.com/-pkq2qTyEGvM/AAAAAAAAAAI/AAAAAAAAFoA/jDXaFewCL-s/s64/photo.jpg",
      "userId": "08424006537682359657"
     },
     "user_tz": -600
    },
    "id": "za21iTP3oA2a",
    "outputId": "eba2508c-b484-4889-fe15-ae737a05983b"
   },
   "outputs": [],
   "source": []
  },
  {
   "cell_type": "markdown",
   "metadata": {
    "id": "MsuK0G2I9JtF"
   },
   "source": [
    "## Exercise 10:\n",
    "\n",
    "Starting with an integer variable `n`, write a loop that performs the following steps:\n",
    "1. if `n` is `1`, terminate the loop\n",
    "2. if `n` is even, divide it by `2`\n",
    "3. if `n` is odd, multiply it by `3`, then add `1`, then go to step 1\n",
    "\n",
    "Does this loop always terminate?"
   ]
  },
  {
   "cell_type": "code",
   "execution_count": null,
   "metadata": {
    "id": "8D5V1FbY9J2L"
   },
   "outputs": [],
   "source": []
  }
 ],
 "metadata": {
  "colab": {
   "authorship_tag": "ABX9TyOIhh1jwEZe+aeHcgh2+/BK",
   "collapsed_sections": [],
   "provenance": []
  },
  "interpreter": {
   "hash": "767d51c1340bd893661ea55ea3124f6de3c7a262a8b4abca0554b478b1e2ff90"
  },
  "kernelspec": {
   "display_name": "Python 3.8.10 64-bit",
   "name": "python3"
  },
  "language_info": {
   "codemirror_mode": {
    "name": "ipython",
    "version": 3
   },
   "file_extension": ".py",
   "mimetype": "text/x-python",
   "name": "python",
   "nbconvert_exporter": "python",
   "pygments_lexer": "ipython3",
   "version": "3.8.10"
  }
 },
 "nbformat": 4,
 "nbformat_minor": 0
}
