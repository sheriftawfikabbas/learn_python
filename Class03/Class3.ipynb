{
 "cells": [
  {
   "cell_type": "markdown",
   "metadata": {
    "colab_type": "text",
    "id": "rmMuBjhFE0W_"
   },
   "source": [
    "# Class 3: Control statements, and playing with the turtle\n",
    "\n",
    "## Learning outcomes\n",
    "\n",
    "At the completion of this unit students should be able to:\n",
    "1.   Understand the conditional statement\n",
    "2.  Understand the loop statement\n",
    "3.   Understand the concept of variable scope\n",
    "4. Utilise loop statement to draw impressive structures with the `turtle`\n",
    "\n",
    "## 3.1 More on operators: logical operators `and`, `or`, `not`\n",
    "\n",
    "These three logical operators operate on boolean expressions to result in boolean values. The meaning of these operators is just what the words mean. `a and b` will give `True` only if both `a` and `b` are `True`, otherwise it gives `False. `a or b` will give `False` only if both `a` and `b` are `False, otherwise it gives `True`. `not a` will give `False` if `a` is `True`, and vice versa.\n",
    "\n",
    "### The `in` operator\n",
    "\n",
    "This operator tests if an value belongs to a list or a set. The situation with dictionaries is different: `in` will return whether a value belongs to the list of *keys*, not *values*, of a dictionary.\n",
    "\n",
    "## 3.2 The conditional statement\n",
    "\n",
    "So far, we have been dealing with simple python statements. Each statement could be written in a single line of code, and they instructed the computer to perform a single task. For example, `a = 4` instructs the computer to put `4` into `a` and that's it.\n",
    "\n",
    "Serious programming starts when we let the computer make decisions after it tests certain conditions. Instead of just printing a name, how about we get the computer to print the name only **if** it starts with letter `A`?\n",
    "\n",
    "I just said **if**, which means: some condition should be tested before the print statement is executed. Now let me introduce the `if` statement in python. This statement has the following syntax:\n",
    "\n",
    "```\n",
    "if boolean_expression:\n",
    "  some_statements\n",
    "```\n",
    "\n",
    "The `boolean_expression` evaluates to either True or False. The `if` statement will only execute the statements if `boolean_expression` evaluates to `True`. Otherwise, these statements will not be executed.\n",
    "\n",
    "So, to solve the above problem, here is the code:\n"
   ]
  },
  {
   "cell_type": "code",
   "execution_count": null,
   "metadata": {
    "colab": {
     "base_uri": "https://localhost:8080/",
     "height": 34
    },
    "colab_type": "code",
    "executionInfo": {
     "elapsed": 1017,
     "status": "ok",
     "timestamp": 1581253585098,
     "user": {
      "displayName": "Sherif Tawfik",
      "photoUrl": "https://lh6.googleusercontent.com/-pkq2qTyEGvM/AAAAAAAAAAI/AAAAAAAAFoA/jDXaFewCL-s/s64/photo.jpg",
      "userId": "08424006537682359657"
     },
     "user_tz": -660
    },
    "id": "ivaenupAEvjK",
    "outputId": "29316fa7-ff35-4721-82d7-631d7b733ba4"
   },
   "outputs": [
    {
     "name": "stdout",
     "output_type": "stream",
     "text": [
      "Ahmed\n"
     ]
    }
   ],
   "source": [
    "s = 'Ahmed'\n",
    "if s[0] == 'A':\n",
    "  print(s)"
   ]
  },
  {
   "cell_type": "markdown",
   "metadata": {
    "colab_type": "text",
    "id": "ndQOrYbRDv20"
   },
   "source": [
    "### Indentation and blocks in python\n",
    "\n",
    "Not the syntax here: the `if` keyword must be followed by the expression, then a colon `:`. In the next line, the `some_statements` has been **indented**. Indentation means: typing space, or tabs, before the statetment. Here, you can notice that `print(s)` has some space before it. By doing this, you are telling the compiler: if the condition is met, **only** execute the line of code that are indented. The indented statements form a *block*.\n",
    "\n",
    "How much space? Well, you can add as much as you want, as long as you are consistent within the block. For example, the code below indents two print statements by 1 tab character.\n",
    "\n",
    "```\n",
    "s = 'Ahmed'\n",
    "if s[0] == 'A':\n",
    "  print(s)\n",
    "  print('Done')\n",
    "```\n",
    "\n",
    "and the code below indents the two statements by 10 space characters.\n",
    "\n",
    "```\n",
    "s = 'Ahmed'\n",
    "if s[0] == 'A':\n",
    "          print(s)\n",
    "          print('Done')\n",
    "```\n",
    "\n",
    "However, the code below will give an error.\n",
    "```\n",
    "s = 'Ahmed'\n",
    "if s[0] == 'A':\n",
    "          print(s)\n",
    "  print('Done')\n",
    "```\n",
    "\n",
    "Now, as a matter of convention: follow the same indentation style in your entire code. It is better to use a single tab indentation, since that it is the most commonly used in python.\n",
    "\n",
    "### The `else` clause\n",
    "\n",
    "In python, we can also specify what the code will do if the condition was **not** met. If the boolean expression evaluate to `False` (that is, if the first letter of the string is not `A`), we add the `else` statement:\n",
    "```\n",
    "if boolean_expression:\n",
    "  some_statements\n",
    "else:\n",
    "  some_other_statements\n",
    "```\n",
    "\n",
    "So we can apply this to our example above as follows:"
   ]
  },
  {
   "cell_type": "code",
   "execution_count": null,
   "metadata": {
    "colab": {
     "base_uri": "https://localhost:8080/",
     "height": 34
    },
    "colab_type": "code",
    "executionInfo": {
     "elapsed": 980,
     "status": "ok",
     "timestamp": 1589500765412,
     "user": {
      "displayName": "Sherif Tawfik",
      "photoUrl": "https://lh6.googleusercontent.com/-pkq2qTyEGvM/AAAAAAAAAAI/AAAAAAAAFoA/jDXaFewCL-s/s64/photo.jpg",
      "userId": "08424006537682359657"
     },
     "user_tz": -600
    },
    "id": "bgNn-a62J9bh",
    "outputId": "858f6400-d94e-4d4e-cdc9-119f8e043a1e"
   },
   "outputs": [
    {
     "name": "stdout",
     "output_type": "stream",
     "text": [
      "The string does not start with A\n"
     ]
    }
   ],
   "source": [
    "s = 'Brent'\n",
    "if s[0] == 'A':\n",
    "  print(s)\n",
    "else:\n",
    "  print('The string does not start with A')"
   ]
  },
  {
   "cell_type": "markdown",
   "metadata": {
    "colab_type": "text",
    "id": "2--QsGdaKJYF"
   },
   "source": [
    "### The `elif` clause\n",
    "\n",
    "Sometimes the condition we are testing might evaluate to more than two possible outcomes. For a simple demonstration: I will decide to put on a jacket if it's very cold outside. But if it's fair, maybe just a jumper. Otherwise, a t-shirt. So here we have three possible outcomes for the condition testing. The testing will check the temperature, and decide accordingly."
   ]
  },
  {
   "cell_type": "code",
   "execution_count": null,
   "metadata": {
    "colab": {
     "base_uri": "https://localhost:8080/",
     "height": 35
    },
    "colab_type": "code",
    "executionInfo": {
     "elapsed": 755,
     "status": "ok",
     "timestamp": 1583449599896,
     "user": {
      "displayName": "Sherif Tawfik",
      "photoUrl": "https://lh6.googleusercontent.com/-pkq2qTyEGvM/AAAAAAAAAAI/AAAAAAAAFoA/jDXaFewCL-s/s64/photo.jpg",
      "userId": "08424006537682359657"
     },
     "user_tz": -660
    },
    "id": "nQBfwu1VLDFQ",
    "outputId": "1475971c-d009-4b1f-c7f7-8eb45ff09377"
   },
   "outputs": [
    {
     "name": "stdout",
     "output_type": "stream",
     "text": [
      "I am wearing a jumper\n"
     ]
    }
   ],
   "source": [
    "temperature = 15\n",
    "if temperature < 15:\n",
    "  print('I am wearing a jacket')\n",
    "elif temperature < 20:\n",
    "  print('I am wearing a jumper')\n",
    "else:\n",
    "  print('I am wearing a t-shirt')"
   ]
  },
  {
   "cell_type": "markdown",
   "metadata": {
    "colab_type": "text",
    "id": "mrmY9kHZLVjj"
   },
   "source": [
    "A useful example is to check the type of a variable:\n"
   ]
  },
  {
   "cell_type": "code",
   "execution_count": null,
   "metadata": {
    "colab": {
     "base_uri": "https://localhost:8080/",
     "height": 34
    },
    "colab_type": "code",
    "executionInfo": {
     "elapsed": 941,
     "status": "ok",
     "timestamp": 1583446188411,
     "user": {
      "displayName": "Sherif Tawfik",
      "photoUrl": "https://lh6.googleusercontent.com/-pkq2qTyEGvM/AAAAAAAAAAI/AAAAAAAAFoA/jDXaFewCL-s/s64/photo.jpg",
      "userId": "08424006537682359657"
     },
     "user_tz": -660
    },
    "id": "LkaPrdqlvEce",
    "outputId": "09bf6595-fd16-4871-9c31-db062ee88847"
   },
   "outputs": [
    {
     "name": "stdout",
     "output_type": "stream",
     "text": [
      "x is an boolean\n"
     ]
    }
   ],
   "source": [
    "\n",
    "x=True\n",
    "if type(x) is list:\n",
    "    print('x is a list')\n",
    "elif type(x) is set:\n",
    "    print('x is a set')\n",
    "elif type(x) is tuple:\n",
    "    print('x is a tuple')   \n",
    "elif type(x) is int:\n",
    "    print('x is an integer')\n",
    "elif type(x) is str:\n",
    "    print('x is a string') \n",
    "elif type(x) is float:\n",
    "    print('x is a float') \n",
    "elif type(x) is bool:\n",
    "    print('x is a boolean') \n",
    "else:\n",
    "    print('I dont know what x is!')\n"
   ]
  },
  {
   "cell_type": "markdown",
   "metadata": {
    "colab_type": "text",
    "id": "yDm46By5vErS"
   },
   "source": [
    "\n",
    "**GOTO Lab exercise 1**\n",
    "\n",
    "## 3.3 The loop statements \n",
    "\n",
    "Python has two loop statements: the `for` and the `while` loop statements. The loop is a very important programming construct. It enables you to repetitively run a block of statements as long as a given condition is correct. Loops let us start write complex code that can solve complex problems; it is actually the starting point for doing serious programming!\n",
    "\n",
    "### The `for` loop\n",
    "\n",
    "The syntax of the `for` loop is:\n",
    "\n",
    "```\n",
    "for x in collection:\n",
    "    statement1\n",
    "    statement2\n",
    "    ...\n",
    "    statementN\n",
    "```\n",
    "\n",
    "Here `collection` could be any of the four collection types in python that we covered in Class 3. Note the `in` operator here.\n",
    "\n",
    "In the `for` statement, `x` is called the *index* of the loop.\n",
    "\n",
    "For example, the following loop will print out the elements from a list:\n"
   ]
  },
  {
   "cell_type": "code",
   "execution_count": null,
   "metadata": {
    "colab": {
     "base_uri": "https://localhost:8080/",
     "height": 68
    },
    "colab_type": "code",
    "executionInfo": {
     "elapsed": 1819,
     "status": "ok",
     "timestamp": 1583443853311,
     "user": {
      "displayName": "Sherif Tawfik",
      "photoUrl": "https://lh6.googleusercontent.com/-pkq2qTyEGvM/AAAAAAAAAAI/AAAAAAAAFoA/jDXaFewCL-s/s64/photo.jpg",
      "userId": "08424006537682359657"
     },
     "user_tz": -660
    },
    "id": "Nv5pCvwFm3qI",
    "outputId": "607bb038-2393-4a66-c268-362c6dbc2d54"
   },
   "outputs": [
    {
     "name": "stdout",
     "output_type": "stream",
     "text": [
      "1\n",
      "2\n",
      "3\n"
     ]
    }
   ],
   "source": [
    "for k in [1,2,3]:\n",
    "  print(k)"
   ]
  },
  {
   "cell_type": "markdown",
   "metadata": {
    "colab_type": "text",
    "id": "4Euzh-nSm3vQ"
   },
   "source": [
    "A useful function in python is the `range()` function:\n",
    "\n",
    "```\n",
    "#You can passs 3 parameters:\n",
    "range(start,end,step)\n",
    "#or 2 parameters:\n",
    "range(start,end)\n",
    "#or 1 parameter:\n",
    "range(end)\n",
    "```\n",
    "\n",
    "This function takes 1, 2 or 3 parameters. It creates a list starting from `start`. If `start` is not there, it assumes that `0` is the starting point. The last element is `end - 1`. If you give it a `step` parameter, it will only include numbers `start`, `start+step`, `start+2*step`, etc. up to the number less than or equal to `end-1`.\n",
    "\n",
    "For example:\n"
   ]
  },
  {
   "cell_type": "code",
   "execution_count": null,
   "metadata": {
    "colab": {
     "base_uri": "https://localhost:8080/",
     "height": 119
    },
    "colab_type": "code",
    "executionInfo": {
     "elapsed": 1329,
     "status": "ok",
     "timestamp": 1583444151846,
     "user": {
      "displayName": "Sherif Tawfik",
      "photoUrl": "https://lh6.googleusercontent.com/-pkq2qTyEGvM/AAAAAAAAAAI/AAAAAAAAFoA/jDXaFewCL-s/s64/photo.jpg",
      "userId": "08424006537682359657"
     },
     "user_tz": -660
    },
    "id": "4p4JXFhWn_wa",
    "outputId": "9a326c35-597d-43a3-dbc5-36f72fe01474"
   },
   "outputs": [
    {
     "name": "stdout",
     "output_type": "stream",
     "text": [
      "2\n",
      "5\n",
      "8\n",
      "11\n",
      "14\n",
      "17\n"
     ]
    }
   ],
   "source": [
    "for x in range(2,20,3):\n",
    "  print(x)"
   ]
  },
  {
   "cell_type": "markdown",
   "metadata": {
    "colab_type": "text",
    "id": "W2qaSsWvn_2n"
   },
   "source": [
    "\n",
    "You can also let the index run from a dictionary:\n"
   ]
  },
  {
   "cell_type": "code",
   "execution_count": null,
   "metadata": {
    "colab": {
     "base_uri": "https://localhost:8080/",
     "height": 87
    },
    "colab_type": "code",
    "executionInfo": {
     "elapsed": 1062,
     "status": "ok",
     "timestamp": 1590113714605,
     "user": {
      "displayName": "Sherif Tawfik",
      "photoUrl": "https://lh6.googleusercontent.com/-pkq2qTyEGvM/AAAAAAAAAAI/AAAAAAAAFoA/jDXaFewCL-s/s64/photo.jpg",
      "userId": "08424006537682359657"
     },
     "user_tz": -600
    },
    "id": "VmGftUfuoQUR",
    "outputId": "8162228c-b400-40cd-dfee-4e267ba733ca"
   },
   "outputs": [
    {
     "name": "stdout",
     "output_type": "stream",
     "text": [
      "('a', 4)\n",
      "It is a tuple\n",
      "b\n",
      "c\n"
     ]
    }
   ],
   "source": [
    "a = {('a',4):1,'b':2,'c':3}\n",
    "for k in a:\n",
    "  print(k)\n",
    "  if type(k)==tuple:\n",
    "    print('It is a tuple')"
   ]
  },
  {
   "cell_type": "markdown",
   "metadata": {
    "colab_type": "text",
    "id": "HNhw8KyHoQaw"
   },
   "source": [
    "Note that this only prints out the keys. What about the values?\n"
   ]
  },
  {
   "cell_type": "code",
   "execution_count": 1,
   "metadata": {
    "colab": {
     "base_uri": "https://localhost:8080/",
     "height": 68
    },
    "colab_type": "code",
    "executionInfo": {
     "elapsed": 962,
     "status": "ok",
     "timestamp": 1583444286769,
     "user": {
      "displayName": "Sherif Tawfik",
      "photoUrl": "https://lh6.googleusercontent.com/-pkq2qTyEGvM/AAAAAAAAAAI/AAAAAAAAFoA/jDXaFewCL-s/s64/photo.jpg",
      "userId": "08424006537682359657"
     },
     "user_tz": -660
    },
    "id": "CAS6rZ_Iohq8",
    "outputId": "96d94df4-6567-46af-fdf3-5531c58ee16f"
   },
   "outputs": [
    {
     "name": "stdout",
     "output_type": "stream",
     "text": [
      "a 1\n",
      "b 2\n",
      "c 3\n"
     ]
    }
   ],
   "source": [
    "a = {'a':1,'b':2,'c':3}\n",
    "for k in a:\n",
    "  print(k,a[k])"
   ]
  },
  {
   "cell_type": "markdown",
   "metadata": {
    "colab_type": "text",
    "id": "LTW84K67oh11"
   },
   "source": [
    "\n",
    "### The `while` loop\n",
    "\n",
    "The syntax of the `while` loop is:\n",
    "\n",
    "```\n",
    "while x:\n",
    "    statement1\n",
    "    statement2\n",
    "    ...\n",
    "    statementN\n",
    "```\n",
    "\n",
    "The `while` loop keeps running the statement block as long as `x` is true. So `x` here is a boolean expression. For example:\n"
   ]
  },
  {
   "cell_type": "code",
   "execution_count": 3,
   "metadata": {},
   "outputs": [
    {
     "name": "stdout",
     "output_type": "stream",
     "text": [
      "0\n",
      "1\n",
      "2\n",
      "3\n",
      "4\n",
      "5\n",
      "6\n",
      "7\n",
      "8\n",
      "9\n"
     ]
    }
   ],
   "source": [
    "a = 0\n",
    "while a < 10:\n",
    "    print(a)\n",
    "    a = a + 1"
   ]
  },
  {
   "cell_type": "code",
   "execution_count": 4,
   "metadata": {
    "colab": {
     "base_uri": "https://localhost:8080/",
     "height": 187
    },
    "colab_type": "code",
    "executionInfo": {
     "elapsed": 1240,
     "status": "ok",
     "timestamp": 1583444687157,
     "user": {
      "displayName": "Sherif Tawfik",
      "photoUrl": "https://lh6.googleusercontent.com/-pkq2qTyEGvM/AAAAAAAAAAI/AAAAAAAAFoA/jDXaFewCL-s/s64/photo.jpg",
      "userId": "08424006537682359657"
     },
     "user_tz": -660
    },
    "id": "lBb0iXHYqAHH",
    "outputId": "b82a502f-e06f-4c5d-d644-52d1c4dde700"
   },
   "outputs": [
    {
     "name": "stdout",
     "output_type": "stream",
     "text": [
      "10\n",
      "9\n",
      "8\n",
      "7\n",
      "6\n",
      "5\n",
      "4\n",
      "3\n",
      "2\n",
      "1\n"
     ]
    }
   ],
   "source": [
    "a = 10\n",
    "while a > 0:\n",
    "  print(a)\n",
    "  a = a - 1"
   ]
  },
  {
   "cell_type": "markdown",
   "metadata": {},
   "source": [
    "### The `break` statement\n",
    "\n",
    "The statement *breaks* the execution of the loop.\n"
   ]
  },
  {
   "cell_type": "code",
   "execution_count": 5,
   "metadata": {},
   "outputs": [
    {
     "name": "stdout",
     "output_type": "stream",
     "text": [
      "10\n",
      "9\n",
      "8\n",
      "7\n",
      "6\n"
     ]
    }
   ],
   "source": [
    "a = 10\n",
    "while a > 0:\n",
    "  if a == 5:\n",
    "    break\n",
    "  print(a)\n",
    "  a = a - 1"
   ]
  },
  {
   "cell_type": "markdown",
   "metadata": {},
   "source": [
    "### The `continue` statement\n",
    "\n",
    "When you call this statement, it breaks execution of the current loop, and enters the *next* loop..\n"
   ]
  },
  {
   "cell_type": "code",
   "execution_count": 7,
   "metadata": {},
   "outputs": [
    {
     "name": "stdout",
     "output_type": "stream",
     "text": [
      "9\n",
      "8\n",
      "7\n",
      "6\n",
      "4\n",
      "3\n",
      "2\n",
      "1\n",
      "0\n"
     ]
    }
   ],
   "source": [
    "a = 10\n",
    "while a > 0:\n",
    "  a = a - 1\n",
    "  if a == 5:\n",
    "    continue\n",
    "  print(a)\n",
    "  "
   ]
  },
  {
   "cell_type": "markdown",
   "metadata": {
    "colab_type": "text",
    "id": "86-N-RjiqASl"
   },
   "source": [
    "\n",
    "\n",
    "\n",
    "### The `pass` statement\n",
    "\n",
    "This statement does *nothing*. When you call pass, it's like you called nothing at all. Not sure why they put it in python!\n",
    "\n",
    "### The `else` statement in the loop\n",
    "\n",
    "The `else` in loops will run its block after the loop finishes.\n",
    "\n",
    "**GOTO Lab exercise 2-9**\n",
    "\n",
    "## 3.4 The turtle\n",
    "\n",
    "The turtle is a fun way to learn programming: instead of doing math or string operations, we move a turtle around a canvas, which will make the turtle draw geometry shapes.\n",
    "\n",
    "We are going to use the online python interpreter called Trinket (https://trinket.io/) to program the turtle. This is because Colab doesn't let us draw on a canvas.\n",
    "\n",
    "Let's start with the most basic turtle code:\n",
    "\n",
    "```\n",
    "from turtle import *\n",
    "\n",
    "```\n",
    "\n",
    "Then to start drawing, you call the `goto()` function:\n",
    "\n",
    "```\n",
    "goto(0,100)\n",
    "goto(100,100)\n",
    "goto(100,0)\n",
    "goto(0,0)\n",
    "```\n",
    "\n",
    "Here, `goto(x,y)` takes you to the `x` and `y` coordinate on the screen.\n",
    "\n",
    "Alternatively, you can move the turtle using the `forward()`, `backward()`, `right()` and `left()` functions:\n",
    "```\n",
    "\n",
    "for x in range(10):\n",
    "    forward(200)\n",
    "    left(170)\n",
    "```\n",
    "\n",
    "To learn more about the turtle, check out the documentation here: https://docs.python.org/3.3/library/turtle.html?highlight=turtle."
   ]
  },
  {
   "cell_type": "markdown",
   "metadata": {},
   "source": []
  }
 ],
 "metadata": {
  "colab": {
   "authorship_tag": "ABX9TyOm0Ttvl7GgvbaZKEDKiY3+",
   "collapsed_sections": [],
   "name": "Class3.ipynb",
   "provenance": []
  },
  "kernelspec": {
   "display_name": "Python 3",
   "name": "python3"
  },
  "language_info": {
   "codemirror_mode": {
    "name": "ipython",
    "version": 3
   },
   "file_extension": ".py",
   "mimetype": "text/x-python",
   "name": "python",
   "nbconvert_exporter": "python",
   "pygments_lexer": "ipython3",
   "version": "3.11.9"
  }
 },
 "nbformat": 4,
 "nbformat_minor": 0
}
