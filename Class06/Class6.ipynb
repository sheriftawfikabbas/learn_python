{
 "cells": [
  {
   "cell_type": "markdown",
   "metadata": {
    "id": "772QSSD1C2kz"
   },
   "source": [
    "# Class 6: Object oriented programming 1\n",
    "\n",
    "## Learning outcomes\n",
    "\n",
    "At the completion of this unit students should be able to:\n",
    "1.   Understand the difference between a class and an object\n",
    "2.   Understand how to create a new class\n",
    "3. Explain the difference between a class (static) variable and an instance variable.\n",
    "4. Understand how to inheret a class\n",
    "\n",
    "# 6.1 The concept of the class\n",
    "Object oriented programming (OOPing) is a programming paradigm that and was invented in 1960s with the Simula language. Please refer to the page https://en.wikipedia.org/wiki/Object-oriented_programming#History for a historical background if you are interested.\n",
    "\n",
    "Among the main OOPing languages available today are Java, C++, C#, PHP and of course python. Each of these languages apply the OOPing concept in its own way. Here, we learn how python does it.\n",
    "\n",
    "OOPing is based on the concept of the object. An object is a programming construct which encapsulates data (state) and methods to process that data (behavior).\n",
    "\n",
    "A class is a description of objects with the same type of data and the same methods. That is, it is the *blueprint* of the object.\n",
    "\n",
    "In a very simple example, we are interested in the following aspects of employees.\n",
    "- Data: name\n",
    "- Data: hourly pay rate\n",
    "- Behaviour: calculation of weekly pay\n",
    "\n",
    "Each employee is an object. The employee class is a general description, or blueprint, of all employees. An employee object is sometimes called an instance of the employee class. The employee object has two pieces of data, the employee name and hourly rate. That object also can *do* something: calculate the weekly pay based on the hourly pay rate.\n",
    "\n",
    "# 6.2 Class definition\n",
    "\n",
    "We define a python class using the keyword `class`:\n",
    "\n",
    "```\n",
    "class MyClass:\n",
    "  stuff\n",
    "\n",
    "```\n",
    "\n",
    "For example, let us define a class that has a variable `salary` set to `300`:\n",
    "\n",
    "```\n",
    "class Employee:\n",
    "  salary = 300\n",
    "\n",
    "```\n",
    "\n",
    "Here, we defined a new class, `Employee`, which is also a new data type, that has one piece of data: the variable `salary`.\n",
    "\n",
    "We can also add functions, or *methods* to a class. For example, let's add a simple `print_salary(self)` method to our `Employee`:\n",
    "\n",
    "```\n",
    "class Employee:\n",
    "  salary = 300\n",
    "  def print_salary(self):\n",
    "    print(self.salary)\n",
    "\n",
    "```\n",
    " And of course we can add as many variables and methods to a class.\n",
    "\n",
    " Variables declared inside a class are called *instance variables*, and methods declared in a class are *instance methods*.\n",
    "\n",
    " Did you notice the argument `self` in the instance method `print_salary`? We will discuss this soon.\n",
    "\n",
    " ### Creating an object\n",
    "\n",
    "An object is created by calling the name of the class. The syntax is\n",
    "\n",
    "```\n",
    "v = MyClass()\n",
    "```\n",
    "\n",
    "The object, which is referenced by the variable `v` above, will exist in memory while the program is executing.\n",
    "\n",
    "The type of the object's variable is the class.\n",
    "\n",
    "Let's demonstrate the type of the object using the `type()` function:\n",
    "\n",
    "\n"
   ]
  },
  {
   "cell_type": "code",
   "execution_count": null,
   "metadata": {
    "colab": {
     "base_uri": "https://localhost:8080/"
    },
    "executionInfo": {
     "elapsed": 4,
     "status": "ok",
     "timestamp": 1663753790841,
     "user": {
      "displayName": "Sherif Tawfik",
      "userId": "08424006537682359657"
     },
     "user_tz": -600
    },
    "id": "4_Ajlt9xCzfi",
    "outputId": "42619dd4-132e-4108-f5c0-78ede0ac8e26"
   },
   "outputs": [],
   "source": [
    "class Employee:\n",
    "    salary = 300\n",
    "\n",
    "    def print_salary(self):\n",
    "        print(\"Printing salary:\", self.salary)\n",
    "\n",
    "\n",
    "e = Employee()\n",
    "print(type(e))\n",
    "print(e.salary)\n",
    "print(Employee.salary)\n",
    "e.print_salary()\n"
   ]
  },
  {
   "cell_type": "markdown",
   "metadata": {
    "id": "w2_JkPJKQoQt"
   },
   "source": [
    "### Accessing the object's content, and the `self` variable\n",
    "\n",
    "Given an object variable, we can access its instance variables and methodss using the `.` notation. For example,"
   ]
  },
  {
   "cell_type": "code",
   "execution_count": null,
   "metadata": {
    "colab": {
     "base_uri": "https://localhost:8080/",
     "height": 51
    },
    "executionInfo": {
     "elapsed": 942,
     "status": "ok",
     "timestamp": 1581341184333,
     "user": {
      "displayName": "Sherif Tawfik",
      "photoUrl": "https://lh6.googleusercontent.com/-pkq2qTyEGvM/AAAAAAAAAAI/AAAAAAAAFoA/jDXaFewCL-s/s64/photo.jpg",
      "userId": "08424006537682359657"
     },
     "user_tz": -660
    },
    "id": "Irzjjq2RQ9cp",
    "outputId": "ec52ab58-ca02-4c82-9673-853298c3ae56"
   },
   "outputs": [],
   "source": [
    "class Employee:\n",
    "  salary = 300\n",
    "  def print_salary(self):\n",
    "    print(self.salary)\n",
    "\n",
    "e = Employee()\n",
    "print(e.salary)\n",
    "e.print_salary()"
   ]
  },
  {
   "cell_type": "markdown",
   "metadata": {},
   "source": [
    "Here, we accessed the `salary` instance variable via the object variable `e` by writing `e.salary`.\n",
    "\n",
    "But inside the `print_salary`, we had to use the `self` variable to be able to accesss the `salary` variable.\n",
    "\n",
    "In addition to satisfying the function syntax, there are additional syntax rules for instance methods: \n",
    "- Every instance method must have at least 1 argument that will refer to the present instance of the class i.e. the object. Traditionally, programmers call that variable `self`, but you can call it anything you want, as long as it is the *first* argument.\n",
    "- For an instance method to access an instance variable, it can only do that via the `self` variable.\n"
   ]
  },
  {
   "cell_type": "code",
   "execution_count": null,
   "metadata": {},
   "outputs": [],
   "source": [
    "class Employee:\n",
    "    salary = 300\n",
    "\n",
    "e = Employee()\n",
    "print(\"Instance variable\",e.salary)\n",
    "print(\"Class variable\", Employee.salary)\n",
    "\n",
    "e.salary = 200\n",
    "print(\"Instance variable\",e.salary)\n",
    "print(\"Class variable\", Employee.salary)\n",
    "\n",
    "e.salary = 300\n",
    "Employee.salary = 200\n",
    "print(\"Instance variable\",e.salary)\n",
    "print(\"Class variable\", Employee.salary)\n",
    "\n",
    "e2 = Employee()\n",
    "print(\"Instance variable\",e.salary)\n",
    "print(\"Class variable\", Employee.salary)"
   ]
  },
  {
   "cell_type": "code",
   "execution_count": null,
   "metadata": {},
   "outputs": [],
   "source": [
    "class Employee:\n",
    "    salary = 300\n",
    "\n",
    "    def calculate_super(self):\n",
    "        self.super_annuation = self.salary * 0.17\n",
    "\n",
    "\n",
    "e = Employee()\n",
    "print(e.salary)\n",
    "e.calculate_super()\n",
    "print(e.super_annuation)"
   ]
  },
  {
   "cell_type": "markdown",
   "metadata": {
    "id": "VebYp_fOSB82"
   },
   "source": [
    "## 6.3 The constructor method\n",
    "\n",
    "The syntax for creating a new object, `v = MyClass()`, has the `()` which we didn't yet discuss. What are these for?\n",
    "\n",
    "When you create a new object, you are doing two things: allocating a new space in memory for containing the object, and calling the *class constructor*. The constructor in python is a special instance method that is implicitly called whenever an object of that class is called. It also has a weird name: `__init__()`.\n",
    "\n",
    "So the `()` in the object creation statement `v = MyClass()` belong to `__init__()`.\n",
    "\n",
    "Let's see how it works.\n",
    "\n"
   ]
  },
  {
   "cell_type": "code",
   "execution_count": null,
   "metadata": {
    "colab": {
     "base_uri": "https://localhost:8080/",
     "height": 34
    },
    "executionInfo": {
     "elapsed": 1155,
     "status": "ok",
     "timestamp": 1587079086086,
     "user": {
      "displayName": "Sherif Tawfik",
      "photoUrl": "https://lh6.googleusercontent.com/-pkq2qTyEGvM/AAAAAAAAAAI/AAAAAAAAFoA/jDXaFewCL-s/s64/photo.jpg",
      "userId": "08424006537682359657"
     },
     "user_tz": -600
    },
    "id": "y4Nxj1EUXmcC",
    "outputId": "995478f2-e565-4550-8dcd-a3186daeeb04"
   },
   "outputs": [],
   "source": [
    "class Employee:\n",
    "  salary = 300\n",
    "  def __init__(self):\n",
    "    print('The new employee object is constructed, with salary '+str(self.salary))\n",
    "\n",
    "e = Employee()"
   ]
  },
  {
   "cell_type": "markdown",
   "metadata": {
    "id": "1I9Pd1i3Xqpi"
   },
   "source": [
    "As you can see, we didn't call the print function explicity. The `__init__()` was called as soon as the object was created, and its block was executed.\n",
    "\n",
    "The `__init__()` has another interesting property: you can create new instance variables *on the fly* by assigning the variables values inside `__init__()`.\n",
    "\n",
    "For example, the following class adds the instance variable `name` inside a method:"
   ]
  },
  {
   "cell_type": "code",
   "execution_count": null,
   "metadata": {
    "id": "o8ZPXrBQZFyy"
   },
   "outputs": [],
   "source": [
    "class Employee:\n",
    "  salary = 300\n",
    "  def __init__(self):\n",
    "    self.name = 'Tim'\n",
    "\n",
    "e = Employee()\n",
    "print(e.name)"
   ]
  },
  {
   "cell_type": "markdown",
   "metadata": {
    "id": "fR86VUOvZtsw"
   },
   "source": [
    "## 6.4 Class and instance variables\n",
    "\n",
    "We have seen two different ways we can declare a variable inside a class in python:\n",
    "- declaring the variable within the class outside of methods\n",
    "- declaring the variable inside the constructor method, `__init__()`\n",
    "\n",
    "What's the difference? A class variable will be accessible though the class, while an instance variable can only be accessed when the object is instantiated.\n",
    "\n",
    "As a rule: \n",
    "- variables created in a class (outside of methods) and accessed via the class name are *class variables*\n",
    "- variables created in a class (outside of methods) and accessed via the instance are *instance variables*\n",
    "- variables created inside methods are *instance variables*\n",
    "\n",
    "Here is an example:"
   ]
  },
  {
   "cell_type": "code",
   "execution_count": null,
   "metadata": {
    "colab": {
     "base_uri": "https://localhost:8080/",
     "height": 68
    },
    "executionInfo": {
     "elapsed": 1244,
     "status": "ok",
     "timestamp": 1587079230338,
     "user": {
      "displayName": "Sherif Tawfik",
      "photoUrl": "https://lh6.googleusercontent.com/-pkq2qTyEGvM/AAAAAAAAAAI/AAAAAAAAFoA/jDXaFewCL-s/s64/photo.jpg",
      "userId": "08424006537682359657"
     },
     "user_tz": -600
    },
    "id": "9779FMNPhv_D",
    "outputId": "5692d8da-8ca8-4c18-c031-9d11477d455a"
   },
   "outputs": [],
   "source": [
    "class Employee:\n",
    "    salary = 300\n",
    "\n",
    "    def __init__(self, name, jd):\n",
    "        self.name = name\n",
    "        self.joiningDate = jd\n",
    "\n",
    "    def printDetails(self):\n",
    "        print(self.name, self.joiningDate)\n",
    "\n",
    "\n",
    "# salary can be accessed before the object is instantiated; it is a class variable\n",
    "print(Employee.salary)\n",
    "\n",
    "# name and joiningDate can ONLY be accessed after instantiating the object; they are instance variables\n",
    "e = Employee(\"Tim\", \"2020-02-02\")\n",
    "print(e.name)\n",
    "\n",
    "e.printDetails()"
   ]
  },
  {
   "cell_type": "markdown",
   "metadata": {
    "id": "4v59m9OrhwHa"
   },
   "source": [
    "What about creating variables in methods other than `__init__()`? They are still instance variables, but they are different from the instance variables declared inside `__init__()`: they only exit when the method is called.\n",
    "\n",
    "Here is an example.\n",
    "\n"
   ]
  },
  {
   "cell_type": "code",
   "execution_count": null,
   "metadata": {
    "colab": {
     "base_uri": "https://localhost:8080/",
     "height": 51
    },
    "executionInfo": {
     "elapsed": 1330,
     "status": "ok",
     "timestamp": 1587079401807,
     "user": {
      "displayName": "Sherif Tawfik",
      "photoUrl": "https://lh6.googleusercontent.com/-pkq2qTyEGvM/AAAAAAAAAAI/AAAAAAAAFoA/jDXaFewCL-s/s64/photo.jpg",
      "userId": "08424006537682359657"
     },
     "user_tz": -600
    },
    "id": "MqK2lRzbrm8P",
    "outputId": "9ba2039c-55a4-4389-891a-0971b08d5007"
   },
   "outputs": [],
   "source": [
    "class Employee:\n",
    "  salary = 300\n",
    "  def __init__(self,name,jd):\n",
    "    self.name = name\n",
    "    self.joiningDate = jd\n",
    "  def printDetails(self):\n",
    "    self.printed = True\n",
    "    print(self.name,self.joiningDate)\n",
    "\n",
    "e = Employee('Tim','2020-02-02')\n",
    "\n",
    "e.printDetails()\n",
    "print(e.printed)"
   ]
  },
  {
   "cell_type": "markdown",
   "metadata": {},
   "source": [
    "Here, the variable `printed` will only exist when the method `printDetails()` is called.\n",
    "\n",
    "Therefore, the rules for creating class and instance variables are:\n",
    "\n",
    "- variables created in a class (outside of methods) are *class variables*\n",
    "- variables created inside `__init__()` are *instance variables* that can be accessed once the object is instantiated\n",
    "- variables created inside methods that are not `__init__()` are *instance variables* that can be accessed only after the object is instantiated and the method is called\n",
    "\n",
    "## 6.5 Class scope\n",
    "\n",
    "We have discussed the concept of *scope* with respect to statement blocks and functions in previous lectures. Classes also have their own scope. In a class, instance variables declared inside the constructor are accessible to all instance methods. \n",
    "\n",
    "For example, in the `Employee` class above, the `name` instance variable is accessible to every instance method in `Employee`. However, it is not accessible outside of the class or the object. To access instance variables, we have to instantiate the object and use the dot, `.`, operator.\n",
    "\n",
    "Class variables can only be accessed via the `.` operator as well.\n",
    "\n",
    "In the example below: class `A` has class variable `a`, which is set with the value `4`. Initially, the value of `a` when accessed via the class `A`, as well as via an instance of the class `inst_A`, is the same: `4`. However, when you change the value of `a` via the class, the value is changed for both the class as well as the instance variable. So both become `6`."
   ]
  },
  {
   "cell_type": "code",
   "execution_count": null,
   "metadata": {},
   "outputs": [],
   "source": [
    "class A:\n",
    "    def g(self):\n",
    "        self.a = 4\n",
    "    def f(self):\n",
    "        self.g()\n",
    "        print(self.a)\n",
    "\n",
    "var_a = A()\n",
    "var_a.f()"
   ]
  },
  {
   "cell_type": "code",
   "execution_count": null,
   "metadata": {},
   "outputs": [],
   "source": [
    "class A:\n",
    "    a = 4\n",
    "    def setter_class(b):\n",
    "        A.a = b\n",
    "    def setter_inst(self,b):\n",
    "        self.a = b\n",
    "    def getter_inst(self):\n",
    "        return self.a\n",
    "    \n",
    "inst_A = A()\n",
    "inst_B = A()\n",
    "print(inst_A.a,inst_A.getter_inst(),inst_B.getter_inst(),A.a)\n",
    "A.setter_class(6)\n",
    "print(inst_A.a,inst_A.getter_inst(),inst_B.getter_inst(),A.a)\n"
   ]
  },
  {
   "cell_type": "markdown",
   "metadata": {},
   "source": [
    "What if we change the value of `a` via the instance variable? This will not affect the value of `a` accessible via the class:"
   ]
  },
  {
   "cell_type": "code",
   "execution_count": null,
   "metadata": {},
   "outputs": [],
   "source": [
    "class A:\n",
    "    a = 4\n",
    "    def setter_class(b):\n",
    "        A.a = b\n",
    "    def setter_inst(self,b):\n",
    "        self.a = b\n",
    "    def getter_inst(self):\n",
    "        return self.a\n",
    "    \n",
    "inst_A = A()\n",
    "inst_B = A()\n",
    "inst_A.setter_inst(5)\n",
    "print(inst_A.a,inst_A.getter_inst(),inst_B.getter_inst(),A.a)\n"
   ]
  },
  {
   "cell_type": "markdown",
   "metadata": {},
   "source": [
    "Let's see how the class can change the variable value: setting the variable via class access will not affect the value of the variable in the instance."
   ]
  },
  {
   "cell_type": "code",
   "execution_count": null,
   "metadata": {},
   "outputs": [],
   "source": [
    "A.setter_class(10)\n",
    "print(inst_A.a,inst_A.getter_inst(),inst_B.getter_inst(),A.a)\n"
   ]
  },
  {
   "cell_type": "markdown",
   "metadata": {},
   "source": [
    "What about changing the value of the class variable within an instance method, where the method accesses the variable via class access? This is just changing the value of the same class variable."
   ]
  },
  {
   "cell_type": "code",
   "execution_count": null,
   "metadata": {},
   "outputs": [],
   "source": [
    "class A:\n",
    "    a = 4\n",
    "    def setter_class(b):\n",
    "        A.a = b\n",
    "    def setter_inst(self,b):\n",
    "        self.a = b\n",
    "    def setter_inst_class(self,b):\n",
    "        A.a = b\n",
    "    def getter_inst(self):\n",
    "        return self.a\n",
    "inst_C = A()\n",
    "inst_C.setter_inst_class(50)\n",
    "print(inst_A.a,inst_A.getter_inst(),inst_B.getter_inst(),A.a)\n"
   ]
  },
  {
   "cell_type": "markdown",
   "metadata": {},
   "source": [
    "To sum up:\n",
    "\n",
    "- A class variable is always accessible, and changeable, via class access.\n",
    "- An instance variable will only exist after an instance method assign that variable.\n",
    "- Once an instance variable is created with the same name as a class variable, they will be treated as totally different things.\n",
    "- If the value of a class variable is changed by an instance of the class, this will only affect the value of the variable owned by the instance. It will not affect the value of the variable when accessed via the class.\n",
    "- If the value of a class variable is changed via class access, its value within instances will not change.\n"
   ]
  },
  {
   "cell_type": "markdown",
   "metadata": {
    "id": "J_oEqfLUrnCE"
   },
   "source": [
    "## 6.6 Inheritance\n",
    "\n",
    "One of the fundamental features of OOPing is the ability of a class to inherit another class. This is the property of *inheritance*, which I will explain in terms of an example before we dig into the programming details.\n",
    "\n",
    "In our organisation there are employees, which we represent with the Employee class. Employees in the organisation have different jobs: accountants, programmers, security, managers, etc. An accountant and a programmer are both employees and can be represented by the `Employee` class; they both have salaries.\n",
    "\n",
    "But they are different:\n",
    "- The accountant has access to accounts, while the programmer doesn't\n",
    "- The programmer has access to a server, while hte accountant doesn't\n",
    "\n",
    "So we need some way to add an additional feature to each employee.\n",
    "\n",
    "*Inheritance* is the way to add those features to those two different types of employees.\n",
    "\n",
    "Python implements inheritance using the following syntax:\n",
    "\n",
    "```\n",
    "class ChildClass(ParentClass):\n",
    "  stuff\n",
    "```\n",
    "\n",
    "So the inheriting class, `ChildClass`, will have access to the methods and variables of the inherited class, `ParentClass`.\n",
    "\n",
    "The child class can access the methods and variables of the parent class via by using the parent's class name, as follows:"
   ]
  },
  {
   "cell_type": "markdown",
   "metadata": {},
   "source": []
  },
  {
   "cell_type": "code",
   "execution_count": null,
   "metadata": {
    "colab": {
     "base_uri": "https://localhost:8080/"
    },
    "executionInfo": {
     "elapsed": 313,
     "status": "ok",
     "timestamp": 1663753907907,
     "user": {
      "displayName": "Sherif Tawfik",
      "userId": "08424006537682359657"
     },
     "user_tz": -600
    },
    "id": "53UMQBKmiXUf",
    "outputId": "3c303a2c-e940-41b1-ed18-a4d0037e0a2e"
   },
   "outputs": [],
   "source": [
    "class Employee:\n",
    "    def __init__(s, fn, ln):\n",
    "        s.firstName = fn\n",
    "        s.lastName = ln\n",
    "\n",
    "\n",
    "class Programmer(Employee):\n",
    "    def __init__(s, fn, ln, lang):\n",
    "        # Employee.__init__(s,fn,ln)\n",
    "        Employee.firstName = fn\n",
    "        Employee.lastName = ln\n",
    "        s.programmingLanguage = lang\n",
    "\n",
    "\n",
    "class Accountant(Employee):\n",
    "    def __init__(s, fn, ln, accounts):\n",
    "        Employee.__init__(s, fn, ln)\n",
    "        s.accounts = accounts\n",
    "\n",
    "\n",
    "class COO(Employee):\n",
    "    def __init__(s, fn, ln, nickname):\n",
    "        Employee.__init__(s, fn, ln)\n",
    "        s.nickname = nickname\n",
    "\n",
    "\n",
    "p1 = Programmer(\"A\", \"B\", \"C#\")\n",
    "a1 = Accountant(\"N\", \"M\", \"Cars\")\n",
    "coo = COO(\"Tim\")\n",
    "\n",
    "print(p1.firstName)\n",
    "print(p1.lastName)\n",
    "print(p1.programmingLanguage)\n",
    "\n",
    "print(a1.firstName)\n",
    "print(a1.lastName)\n",
    "print(a1.accounts)"
   ]
  },
  {
   "cell_type": "markdown",
   "metadata": {
    "id": "wzAhI4mwibcE"
   },
   "source": [
    "Here, the child class is calling the constructor of the parent class, `Employee.__init__(s,fn,ln)`. This will enable you to create a `Programmer` object with both `Employee` and `Programmer` information, and then put the information in their relevant places within the class e.g. `fn`,`ln` go into `Employee`.\n",
    "\n",
    "Or you can use the super() method which gives you access to the parent class's variables and methods."
   ]
  },
  {
   "cell_type": "code",
   "execution_count": null,
   "metadata": {
    "id": "k5lnjq13RgJE"
   },
   "outputs": [],
   "source": [
    "class Employee:\n",
    "  def __init__(s,fn,ln):\n",
    "    s.firstName=fn\n",
    "    s.lastName=ln\n",
    "  \n",
    "class Programmer(Employee):\n",
    "  def __init__(s,fn,ln,lang):\n",
    "    super().__init__(fn,ln)\n",
    "    s.programmingLanguage=lang\n",
    "\n",
    "p1 = Programmer('A','B','C#')"
   ]
  },
  {
   "cell_type": "markdown",
   "metadata": {
    "id": "2CNticCHTF_J"
   },
   "source": []
  }
 ],
 "metadata": {
  "colab": {
   "authorship_tag": "ABX9TyMMhnmWR4L+/IZHvI5/DYJL",
   "collapsed_sections": [],
   "provenance": []
  },
  "kernelspec": {
   "display_name": "Python 3",
   "name": "python3"
  },
  "language_info": {
   "codemirror_mode": {
    "name": "ipython",
    "version": 3
   },
   "file_extension": ".py",
   "mimetype": "text/x-python",
   "name": "python",
   "nbconvert_exporter": "python",
   "pygments_lexer": "ipython3",
   "version": "3.11.9"
  }
 },
 "nbformat": 4,
 "nbformat_minor": 0
}
