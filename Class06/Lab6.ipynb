{
 "cells": [
  {
   "cell_type": "markdown",
   "metadata": {
    "id": "uZWeHgVNWboI"
   },
   "source": [
    "# Lab 6\n",
    "\n",
    "## Exercise 1: (Quiz)\n",
    "\n",
    "Create a class `Animal` that has the following variables: `type`, `age`, `name`. Create 3 animals: a tiger, a lizard and a crocodile. The tiger's name is `Alex` and is 2 years old. The Lizard's name is `Alice` and is 3 weeks old. The crocodile's name is `Mazen` and is 1 year old."
   ]
  },
  {
   "cell_type": "code",
   "execution_count": 3,
   "metadata": {
    "id": "GNyyRsWvWQsM"
   },
   "outputs": [],
   "source": [
    "class Animal:\n",
    "    def __init__(self, type, age, name):\n",
    "        self.type = type\n",
    "        self.age = age\n",
    "        self.name = name\n",
    "\n",
    "\n",
    "tiger = Animal(\"tiger\", \"2 years\", \"Alex\")\n",
    "lizard = Animal(\"lizard\", \"3 weeks\", \"Alice\")"
   ]
  },
  {
   "cell_type": "code",
   "execution_count": null,
   "metadata": {},
   "outputs": [],
   "source": [
    "class Animal:\n",
    "    def __init__(self, age, name):\n",
    "        self.age = age\n",
    "        self.name = name\n",
    "\n",
    "\n",
    "class Tiger(Animal):\n",
    "    def __init__(self, age, name):\n",
    "        super().__init__(age, name)\n",
    "\n",
    "\n",
    "class Lizard(Animal):\n",
    "    def __init__(self, age, name):\n",
    "        super().__init__(age, name)\n",
    "\n",
    "\n",
    "class Croc(Animal):\n",
    "    def __init__(self, age, name):\n",
    "        super().__init__(age, name)\n",
    "\n",
    "\n",
    "c = Croc(\"Mazen\", \"1 year\")\n",
    "t = Tiger(\"Alex\", \"2 years\")"
   ]
  }
 ],
 "metadata": {
  "colab": {
   "authorship_tag": "ABX9TyPjIx8lQzvdXDVCbEbM5PDH",
   "collapsed_sections": [],
   "provenance": []
  },
  "kernelspec": {
   "display_name": "Python 3",
   "name": "python3"
  },
  "language_info": {
   "codemirror_mode": {
    "name": "ipython",
    "version": 3
   },
   "file_extension": ".py",
   "mimetype": "text/x-python",
   "name": "python",
   "nbconvert_exporter": "python",
   "pygments_lexer": "ipython3",
   "version": "3.11.9"
  }
 },
 "nbformat": 4,
 "nbformat_minor": 0
}
